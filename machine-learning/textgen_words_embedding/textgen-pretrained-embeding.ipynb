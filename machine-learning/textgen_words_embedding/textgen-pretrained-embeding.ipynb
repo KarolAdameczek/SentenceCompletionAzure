{
  "cells": [
    {
      "cell_type": "code",
      "source": [
        "%matplotlib inline\r\n",
        "import numpy as np\r\n",
        "import os\r\n",
        "import matplotlib.pyplot as plt\r\n",
        "\r\n",
        "import azureml\r\n",
        "from azureml.core import Workspace, Dataset\r\n",
        "\r\n",
        "print(\"Azure ML SDK Version: \", azureml.core.VERSION)"
      ],
      "outputs": [
        {
          "output_type": "stream",
          "name": "stdout",
          "text": [
            "Azure ML SDK Version:  1.19.0\n"
          ]
        }
      ],
      "execution_count": 2,
      "metadata": {
        "gather": {
          "logged": 1611624628636
        }
      }
    },
    {
      "cell_type": "code",
      "source": [
        "import tensorflow as tf\r\n",
        "from tensorflow.keras.layers.experimental import preprocessing\r\n",
        "from tensorflow.keras.models import Sequential\r\n",
        "from tensorflow.keras.layers import Dense, LSTM, Dropout\r\n",
        "from tensorflow.keras.utils import normalize\r\n",
        "\r\n",
        "import numpy as np\r\n",
        "import os\r\n",
        "import string"
      ],
      "outputs": [],
      "execution_count": 1,
      "metadata": {
        "collapsed": true,
        "jupyter": {
          "source_hidden": false,
          "outputs_hidden": false
        },
        "nteract": {
          "transient": {
            "deleting": false
          }
        },
        "gather": {
          "logged": 1611624628520
        }
      }
    },
    {
      "cell_type": "code",
      "source": [
        "ws = Workspace.from_config()\r\n",
        "print('Workspace name: ' + ws.name, \r\n",
        "      'Azure region: ' + ws.location, \r\n",
        "      'Subscription id: ' + ws.subscription_id, \r\n",
        "      'Resource group: ' + ws.resource_group, sep='\\n')"
      ],
      "outputs": [
        {
          "output_type": "stream",
          "name": "stdout",
          "text": [
            "Workspace name: sentencecompletion\n",
            "Azure region: westeurope\n",
            "Subscription id: 5334814e-153c-45f0-9557-00aa820611b9\n",
            "Resource group: SentenceCompletionAzure\n"
          ]
        }
      ],
      "execution_count": 3,
      "metadata": {
        "collapsed": true,
        "jupyter": {
          "source_hidden": false,
          "outputs_hidden": false
        },
        "nteract": {
          "transient": {
            "deleting": false
          }
        },
        "gather": {
          "logged": 1611624630055
        }
      }
    },
    {
      "cell_type": "code",
      "source": [
        "datastore = ws.get_default_datastore()\r\n",
        "dataset = Dataset.get_by_name(ws, name='Korpus-segmentation')\r\n",
        "mount_ctx0 = dataset.mount()  \r\n",
        "mount_ctx0.start() \r\n",
        "dataset_mount_corpora = mount_ctx0.mount_point\r\n",
        "print(dataset_mount_corpora)\r\n",
        "corpora_files = os.listdir(dataset_mount_corpora)\r\n",
        "print(corpora_files)\r\n",
        "\r\n",
        "dataset = Dataset.get_by_name(ws, name='word2vec-wiki-nkfp-polish')\r\n",
        "mount_ctx1 = dataset.mount()  \r\n",
        "mount_ctx1.start() \r\n",
        "dataset_mount_word2vec = mount_ctx1.mount_point\r\n",
        "print(dataset_mount_word2vec)\r\n",
        "w2v_files = os.listdir(dataset_mount_word2vec)\r\n",
        "print(w2v_files)"
      ],
      "outputs": [
        {
          "output_type": "stream",
          "name": "stdout",
          "text": [
            "/tmp/tmpavb5shad\n",
            "['1.txt', '2.txt', '3.txt', '4.txt', '5.txt', '6.txt', '7.txt', '8.txt', '9.txt']\n",
            "/tmp/tmp_wcdvxsy\n",
            "['nkjp+wiki-forms-all-100-cbow-hs.txt']\n"
          ]
        }
      ],
      "execution_count": 4,
      "metadata": {
        "collapsed": true,
        "jupyter": {
          "source_hidden": false,
          "outputs_hidden": false
        },
        "nteract": {
          "transient": {
            "deleting": false
          }
        },
        "gather": {
          "logged": 1611624654043
        }
      }
    },
    {
      "cell_type": "code",
      "source": [
        "texts = []\r\n",
        "for file_ in corpora_files[:2]:\r\n",
        "    texts.append(open(os.path.join(dataset_mount_corpora, file_), 'rb').read().decode(\"utf-8\")[:100000])\r\n",
        "    l = (len(texts[-1]))\r\n",
        "    print(f\"Length of text {file_}: {l} characters\")\r\n",
        "\r\n",
        "texts[0][500:1000]"
      ],
      "outputs": [
        {
          "output_type": "stream",
          "name": "stdout",
          "text": [
            "Length of text 1.txt: 100000 characters\n",
            "Length of text 2.txt: 100000 characters\n"
          ]
        },
        {
          "output_type": "execute_result",
          "execution_count": 24,
          "data": {
            "text/plain": "'tanisław janicki , minister pracy i opieki społecznej jerzy iwanowski , minister poczt i telegrafów hubert linde , minister kultury i sztuki zenon przesmycki , minister robót publicznych józef próchnik , kierownik ministerstwa komunikacji julian eberhardt , minister skarbu józef englich , minister aprowizacji antoni minkiewicz , minister zdrowia publicznego tomasz janiszewski , kierownik ministerstwa spraw wojskowych pułk .\\r\\njan wroczyński .\\r\\npodsekretarze stanu :\\r\\nw min . spraw zewnętrznych wła'"
          },
          "metadata": {}
        }
      ],
      "execution_count": 24,
      "metadata": {
        "collapsed": true,
        "jupyter": {
          "source_hidden": false,
          "outputs_hidden": false
        },
        "nteract": {
          "transient": {
            "deleting": false
          }
        },
        "gather": {
          "logged": 1611625206996
        }
      }
    },
    {
      "cell_type": "code",
      "source": [
        "for i, text in enumerate(texts):\r\n",
        "  text = text.lower()\r\n",
        "  vocab = sorted(set(text))\r\n",
        "  polish_alphabet = \"aąbcćdeęfghijklłmnńoóprsśtuwyzźż\"\r\n",
        "\r\n",
        "  unwanted_whitespaces = string.whitespace.translate(str.maketrans(\"\", \"\", \" \"))\r\n",
        "  allowed_chars = polish_alphabet + polish_alphabet.upper() + string.digits + \"!?.,:%\" + \" \"\r\n",
        "  unwanted_chars = \"\".join(vocab).translate(str.maketrans(\"\",\"\",allowed_chars))\r\n",
        "  \r\n",
        "  print(f\"--------- {i}/{len(texts)} ----------\")\r\n",
        "  text = text.replace(\"\\r\\n\", \" \")\r\n",
        "  text = text.translate(str.maketrans(unwanted_whitespaces, \"\".join([\" \" for _ in range(len(unwanted_whitespaces))])))\r\n",
        "  text = text.translate(str.maketrans(\"\", \"\", unwanted_chars))\r\n",
        "  texts[i] = text\r\n",
        "\r\n",
        "texts[0]"
      ],
      "outputs": [
        {
          "output_type": "stream",
          "name": "stdout",
          "text": [
            "--------- 0/2 ----------\n",
            "--------- 1/2 ----------\n"
          ]
        },
        {
          "output_type": "execute_result",
          "execution_count": 25,
          "data": {
            "text/plain": "'sprawozdanie stenograficzne z 1 . posiedzenia sejmu ustawodawczego z dnia 10 . lutego 1919 r .  początek posiedzenia o godzinie 11 minut 45 .  ze strony rządu obecni : prezydent ministrów i minister spraw zagranicznych ignacy jan paderewski , minister spraw wewnętrznych stanisław wojciechowski , minister sprawiedliwości leon supiński , minister wyznań religijnych i oświecenia publicznego jan łukasiewicz , minister przymysłu i handlu kazimierz hącia , minister rolnictwa i dóbr państwowych stanisław janicki , minister pracy i opieki społecznej jerzy iwanowski , minister poczt i telegrafów hubert linde , minister kultury i sztuki zenon przesmycki , minister robót publicznych józef próchnik , kierownik ministerstwa komunikacji julian eberhardt , minister skarbu józef englich , minister aprowizacji antoni minkiewicz , minister zdrowia publicznego tomasz janiszewski , kierownik ministerstwa spraw wojskowych pułk . jan wroczyński . podsekretarze stanu : w min . spraw zewnętrznych władysław wróblewski , w min . spr . wewn . józef bekk , w min . sprawiedl . józef światopełk  zawadzki , w min . przem . i handlu henryk strasburger , w min . pracy i op . społ . aleksander pristor , w min . poczt i telegr . jan urbański , w min . kult , i sztuki jan heurich , w min . skarbu władysław byrka , w min . aprowizacji janusz machnicki , w min . zdrowia publ . witold chodźko , w min . wyzn . rel . i ośw . publ . bronisław dembiński . naczelnik państwa józef piłsudski  witany burzliwymi oklaskami wchodzi na mównicę , posłowie powstają z miejsc  . panowie posłowie ! półtora wieku walk , krwawych nieraz i ofiarnych , znalazło swój triumf w dniu dzisiejszym . półtora wieku marzeń o wolnej polsce czekało swego ziszczenia w obecnej chwili . dzisiaj mamy wielkie święto narodu , święto radości po długiej , ciężkiej nocy cierpień . w tej godzinie wielkiego serc polskich bicia czuję się szczęśliwym , że przypadł mi zaszczyt otwierać sejm polski , który znowu będzie domu swego ojczystego jedynym panem i gospodarzem . radość dnia dzisiejszego była by stokroć większa , gdyby nie troska , że zbieracie się w chwili niezwykle ciężkiej . po długiej nieszczęsnej wojnie świat cały a z nim i polska czekają z tęsknotę upragnionego pokoju . tęsknota ta w polsce dziś ziścić się nie może . synowie ojczyzny muszą iść , by bronić granic i zabezpieczyć polsce swobodny rozwój . sąsiedzi nasi , z którymi pragnęli by śmy żyć w pokoju i zgodzie , nie chcą zapomnieć o wiekowej słabości polski , która tak długo stała otworem dla najazdów i była ofiarą narzucania jej obcej woli przemocą i siłą . nie chcemy mieszać się do życia wewnętrznego któregokolwiek z naszych sąsiadów , lecz pozwolić nie możemy , by pod jakimkolwiekbądź pozorem , chociażby pod pozorem rzekomego dobrodziejstwa , naruszano nasze prawo do samodzielnego życia .  oklaski  . nie oddamy ani piędzi ziemi polskiej i nic pozwolimy , by uszczuplano nasze granice , do których mamy prawo  burzliwe oklaski  . dążności naszych sąsiadów sprawiły , że ze wszystkimi nimi znajdujemy się obecnie w otwartej wojnie lub conajmniej w stosunkach mocno naprężonych . jasną stroną w naszych stosunkach zewnętrznych są zacieśniające się węzły przyjaźni z państwami ententy . głęboka sympatią łączyła już dawniej polskę ze światem demokratycznym europy i ameryki ,  oklaski i głosy : niech żyje wilson !  nie szukającym sławy w podbojach i ucisku innych narodowości , a pragnącym ułożenia stosunków w myśl zasad sprawiedliwości i słuszności . sympatia ta spotęgowała się , gdy sławne armie państw sprzymierzonych , druzgocąc ostatnią potęgę naszych ciemiężycieli , wyzwoliły polskę z niewoli  oklaski  . jestem przekonany , że serdeczne uczucia i niezaprzeczona wspólność interesów z tymi państwami uczyni niezbędną dla nas z ich strony pomoc wydatną i skuteczną . naród polski przez półtora wieku zmuszony był stosować się do praw narzuconych przez obcą przemoc . nie mogąc normować : swego życia według własnej woli , zatracił przez ten długi okres poczucie prawa , i wiarę we własne siły . obdarzeni dziś  nieczytelne  narodu dać mu macie podstawy dla jego niepodległego życia w postaci prawa konstytucyjnego rzeczypospolitej polskiej . na tej podstawie utworzycie rząd , oparty o prawa , przez wybrańców narodu ustanowione . prawa , przez was uchwalone , będą początkiem nowego życia wolnej i zjednoczonej ojczyzny  oklaski  . polska , otoczona zewsząd przez wrogów musi posiadać armię , któraby mogła sprostać swoim ciężkim zadaniom ,  burzliwe oklaski  macie poprzeć i rozwinąć rozpoczętą budowę wojska tak , by ojczyzna , zasłonięta piersiami żołnierza , mogła się czuć bezpieczną i przeświadczoną , że honoru jej i praw broni silna i dobrze wyposażona armia  oklaski  .  wreszcie zwrócicie , panowie , niechybnie baczną uwagę na niedomagania naszego życia gospodarczego , upośledzonego przez gospodarkę obcych i zrujnowanego silnie przez wojnę i okupację . w tej dziedzinie należyte uregulowaniespraw znajdującego się w upadku przemysłu i niezbędnych reform agrarnych   burzliwe oklaski  w duchu postępui wielkich demokracji zachodu stworzy zdrowe podstawy dla siły duchowej narodu i da trwałe podłoże dla budowy jego przyszłości . życząc panom powodzenia w ich trudnej i odpowiedzialnej pracy , ogłaszam pierwszy sejm wolnej i zjednoczonej rzeczypospolitej polskiej za otwarty  burzliwe oklaski  i powołuję najstarszego z panów posła ferdynanda radziwiłła do objęcia tymczasowego przewodnictwa  oklaski i okrzyki : niech żyje piłsudski !   posłowie siadają . naczelnik państwa opuszcza salę  .  przewodniczący poseł ferdynand radziwiłł : wysoka izbo ! w chwili gdy przypada na mnie obowiązek zagajenia tego wysokiego zgromadzenia , oprócz serdecznej radości czuję wzruszenie , które w sercu każdego polaka w tak ważnej i historycznej chwili budzić się musi . oddawna , od stu lat , z wyjątkiem przejściowych zwoływań reprezentacji polskich nic było sejmu , któryby stanął przed tak ważnym i tak odpowiedzialnym dla wszystkich członków zadaniem , bo wszakże powołani jesteśmy do położenia fundamentów pod przyszłą budowę niepodległej polski . kilka słów przedewszystkiem w osobistym moim imieniu i w imieniu moich kolegów z wielkopolski , którzy ze szlachetnego porywu rządu zostali tu powołani jako dawni reprezentanci polscy , wybrani z rzeszy niemieckiej , a którzy od początku istnienia tej rzeszy w państwie pruskim i w północnych niemczech przez długie pokolenia dzierżyli odpowiedzialność za czuwanie nad interesami ludności , która ich pieczy była powierzona . starali śmy się wiernie i sumiennie spełniać ten obowiązek , o ile sił naszych starczyło  oklaski  , czego świadectwem może być dla nas , że dlatego właśnie zostali śmy tu powołani do tej wspólnej pracy . i oto pierwszy raz w naszym życiu doświadczeń parlamentarnych stoimy przed zgromadzeniem , do którego , jako do rodaków , rozumiejących porywy serca naszego , ku obronie naszych żywotnych praw narodowych z zaufaniem odwołać się mamy prawo .  oklaski   ciężkie zaiste są chwile , w których się ten sejm zbiera , a odpowiedzialność nasza wzrasta w miarę ważności chwili . musimy ze spokojem , powagą , odpowiadającą tej chwili zabrać się do ustawodawczej pracy dla państwa polskiego . granice tego państwa nie są jeszcze ustalone i możnaby powątpiewać , czy chwila obecna była odpowiednia do podejmowania tej mozolnej pracy . ale ponieważ tak się stało , ponieważ już dzisiaj powołani tu jesteśmy do rozważania tego wszystkiego , co dla pomyślnego przeprowadzenia tego dzieła jest nieodzownie potrzebne , wzywam was , szanowni panowie , aby śmy z rozwagą , nie dając się porywać partyjną nienawiścią , skupili swoje myśli w jedną całość dokoła konieczności radzenia o bezpieczeństwie państwa . chmury nadciągają ze wszystkich stron . kresy wschodnie i kresy zachodnie , nie mniej kresy północne , są zagrożone . nienawistne prądy państw sąsiednich wdzierają się w nasze granice . trzeba więc nam radzić przedewszystkiem o bezpieczeństwie państwa w myśl orędzia , które dopiero co naczelnik kraju jako program swego rządu wam podał , zaiste wielka jest odpowiedzialność nasza , ogrom działalności tego sejmu prawie przechodzi siły . trzeba zastanowić się nad tem , o co idzie w grze dzisiejszych wypadków . przez wieki świetnej historii naszego narodu rząd polski spoczywał na mocnych , prawem uświęconych instytucjach , i dzięki temu polska była niegdyś przedmurzem wolności europy pried zaborczymi hordami , które w jej granice wpadały . wam , moi panowie , nie trzeba przypominać świetności rozwoju dziejów naszych , ale niech świadomość tej świetności i pamięć o tera stanowisku , jakie przez długie wieki państwo polskie zajmowało w europie , kierują waszymi obradami . chodzi o to , aby te skarby przeszłości , które opatrzność oddaje dziś w naszą pieczę , dopuszczając ten cud , że tak niespodziewanie zmartwychwstało państwo polskie ,  aby te skarby ten sejm miał na oku przy swoich decyzjach na przyszłość . oby te zasady przez wieki przodujące w dawnym rozwoju naszej państwowości , nie zostały podkopane i unicestwione przez prądy przeciwne ,  zasady ochrony wiary chrześcijańskiej , niezłomnej wierności dla stolicy apostołskiej , zasady , które były rękojmią bezpieczeństwa tak życia prywatnego jak życia publicznego i państwowego .  oklaski  dlatego , moi panowie , winien em w tem wysokiem zgromadzeniu dziś oddać pokłon namiestnikowi chrystusowemu , który w swoim orędziu do państw wojujących ujął się przedewszystkiem za polską i do pieczy nad nią wezwał państwa zajęte wojną , która przedewszystkiem kraj nasz , naszą biedną ludność wtrąciła w bezgraniczne nieszczęścia i nieobliczalne zadała straty . przyświecać nam powinna ta myśl , aby rany , zwłaszcza rany szerokich warstw naszej ludności pracującej goić w duchu miłości chrześcijańskiej .  oklaski  podnieść muszę konieczność stworzenia silnego rządu , niezbędnego do ustalenia porządku społecznego . tam gdzie panują nieokiełznane namiętności , z jakiejkolwiek strony by wyszły , tam panowie porządku i ładu być nic może . pogrom państwa wschodniego , które dotychczas dzierżyło rządy kraju , gdzie dziś obradujemy , jest dla nas przykładem odstraszającym do czego prowadzi niemoc i bezprawie naród , kierujący się nie zasadami boskiej sprawiedliwości lecz partyjnemi namiętnościami i chęcią przewagi jednej klasy współobywateli nad drugą we współżyciu kraju . w czasach porozbiorowych duch w polskim narodzie nie zamarł , przeciwnie można powiedzieć , że wydawał jako wyraz niezłomnej żywotności duchowej kwiaty i plon obfity w literaturze , sztuce i nauce . czasy królestwa kongresowego  przypomnę tylko mężów jak czartoryskiego adama , lubeckiego , czackiego  to czasy pieczy nad powszechną oświatą , nad podniesieniem naukowem wszystkich klas narodu ,  to niezatarte ślady tego ducha polskiego , który nasz kraj wonczas ożywiał . naśladujmy ż tych dawnych przywódców rozwoju kulturalnego naszego kraju , pamiętajmy o tem , że przeszłość przekazała nam skarby , których pilnować , które mnożyć , powiększać jest naszym zadaniem . niech nam przyświecają zasady wiary , tak głęboko zakorzenionej w duszach mas naszego narodu , one nam będą najlepszą pomocą przy sumiennym spełnianiu naszych zadań . niech nam przyświeca miłość dla braci według przykazania chrystusowego : miłuj bliźniego swego jak siebie samego . niech nam przyświeca nadzieja , że pomimo wszelkich przeszkód , pomimo wszelkich niebezpieczeństw , które na drodze naszej spotykać będziemy , pan bóg da nam wyprowadzić tę nawę państwową na właściwe tory ku bezpiecznej i dobry rozwój naszych losów rokującej przyszłości . w tym moi panowie łączmy się wszyscy i nie zapominajmy o tej nauce z ewangelii , jak zły duch rozrzucił kąkol między ziarna dobre . niestety , odczuwać się dają tu i owdzie prądy , które chciały by obalić spokojny , według praw boskich odbywający się rozwój społeczny naszego kraju . zpoza granic jego działa zły duch , zrodzony z terorystycznego rozkładu społeczeństwa w sąsiednim państwie , i pragnie się zaszczepić w naszym , duch , który wyraźnie dąży do zatopienia zasad i praw boskich i ludzkich w morzu krwi i gwałtu . oby duch ten nigdy w polsce nie zapanował . występując przeciw niemu , podtrzymujemy skutecznie zasadę miłości bliźniego , zabezpieczając wszystkim stanom państwa prawo , porządek i rozwój . niech nam pan bóg do tego dopomoże ! w tej myśli witam szanownych panów . sejm polski niech żyje !  oklaski , okrzyki : niech żyje sejm !  na sekretarzy powołuję jako najmłodszych pp . posłów niedziałkowskiego mieczysława i ks . kaczyńskiego zygmunta . naczelnik państwa polecił mi zakomunikować wysokiemu sejmowi następujący telegram :  czyta :  do naczelnego wodza piłsudskiego . warszawa . belweder . biała 9 lutego . dzisiaj wojska polskie wkroczyły do fortecy brześć .  brawa , burzliwe oklaski , okrzyki : niech żyje armia !  i chorągiew polska zawisła wysoko , aby znękanej ludności polskiej brzeskiej ziemi nieść radość wyzwolenia , wolności i zjednoczenia . w ten dzień historyczny podlegle mi oddziały ślą ci hołd i składają twierdzę w ręce pierwszego sejmu z przysięgą bronienia tej ważnej placówki od wschodu do ostatniej kropli krwi . bóg nam sprzyja , gdyż tu odwieczni wrogowie , podpisując pokój brzeski , knuli spisek czwartego podziału . to miasto w polskich rękach . listowski , generał  podporucznik . proszę pana sekretarza odczytać spis dekretów wydanych w drodze ustawodawstwa tymczasowego a zgłoszonych teraz do zatwierdzenia sejmu . w myśl dekretu rady regencyjnej z dnia 15 października 1918 r . z art . 3 dekretu naczelnika państwa z dnia 22 listopada 1918 wpłynęły od poszczególnych ministerstw następujące dekrety do ustawodawczego traktowania : 1  dekret z dnia 26 października 1918 r .  dz . pr . . nr . 14 p . 30  o utworzeniu ministerstw : spraw zewnętrznych , spraw wojskowych , komunikacji i aprowizacji . 2  dekret z dnia 30 października 1918 r .  dz . pr . nr . 14 p . 31  o utworzeniu ministerstwa zdrowia publicznego i opieki społecznej i ministerstwa ochrony pracy . 3  dekret z dnia 22 listopada 1918 r .  dz . pr . 17 p . 41  o najwyższej władzy reprezentacyjnej republiki polskiej . 4  dekret z dnia 5 grudnia 1918 r .  dz . pr . nr . 19 p . 52  o utworzeniu ministerstwa sztuki i kultury . 5  dekret z dnia 11 grudnia 1918 r .  dz . pr . nr . 20 p . 59  w przedmiocie utworzenia kancelarii cywilnej naczelnika państwa . 6  a . dekret z dnia 30 grudnia 1918 r .  dz . pr . nr . 3 p . 84  o utworzeniu państwowego urzędu do spraw powrotu jeńców , uchodźców i robotników  b . dekret z dnia 5 lutego 1919 r . o zmianie tego dekretu .  dz . pr . nr . 13 za 1919 r . p . 143  7  statut komisji rządzącej dla galicji i śląska cieszyńskiego oraz górnej orawy i spiżu  dz . pr . 7 p . 106  . 8  dekret z dnia 16 stycznia 1919 r .  dz . pr . nr . 8 p . 118  o utworzeniu ministerstwa robót publicznych . 9  dekret z dnia 5 lutego 1919 r . o utworzeniu ministerstwa poczt i telegrafów .  dz . pr . nr . 8 za 1919 r . p . 118 .  10  dekret z dnia 31 stycznia 1919 r . o utworzeniu głównego urzędu likwidacyjnego .  dz . pr . nr . 13 za 1919 r . poz . 142 .  dekrety przedstawione przez ministerstwo spraw wewnętrznych : 1  dekret o ordynacji wyborczej do sejmu ustawodawczego z dnia 28 listopada 1918 r .  dz . pr . nr . 18 za 1918 r . poz . 46  . 2  dekret o wyborach do sejmu ustawodawczego z dnia 28 listopada 1918 r .  dz . pr . nr . 18 za 1918 r . poz . 47  . 3  dekret o utworzeniu rad gminnych na obszarze b . królestwa kongresowego z dnia 28 listopada 1918 r .  dz . pr . nr . 18 za 1918 r . poz . 48  . 4  dekret w przedmiocie obrony ludności przed lichwą wojenną z 5 grudnia 1918  dz . pr . nr . 19 za 1918 poz . 50  . 5  dekret o tymczasowej ordynacji wyborczej do sejmików powiatowych z dnia 5 grudnia 1918 r .  dz . pr . nr . 19 za 1918 r . poz . 51 .  6  przepisy o organizacji milicji ludowej z dn . 5 grudnia 1918 r .  dz . pr . nr . 19 za 1918 r . poz . 53 . 7  dekret o wyborach do rad miejskich na terenie b . królestwa kongresowego  dz . pr . nr . 20 z 1918 r . poz . 58  . 8  dekret w przedmiocie przepisów tymczasowych o moratorium mieszkaniowem dla pozostających bez pracy z dnia 19 grudnia 1918 r .  bz . pr . nr . 20 za 1918 r . poz . 62  . 9  dekret o przekazaniu krajowemu sądowi wyższemu w krakowie niektórych funkcji sądu najwyższego z dniu 19 grudnia 1918 r .  dz . pr . nr . 20 za 1918 r . poz . 64  . 10  dekret o zmianach w ordynacji wyborczej do sejmu ustawodawczego z dnia 26 grudnia 1918 r .  dz . pr . nr . 21 za 1918 r . poz . 74 .  11  dekret o wprowadzeniu stanu wyjątkowego z dnia 2 stycznia 1919 r .  dz . pr . nr . 1 za 1919 r . poz . 79  . 12  dekret o używaniu wojska w wypadkach wyjątkowych z dnia 2 stycznia 1919 r .  dz . pr . nr . 1 za 1919 r . poz . 80  . 13  dekret o stowarzyszeniach z dnia 3  go stycznia 1919 r .  dz . pr . nr . 3 za 1919 roku poz . 88  . 14  dekret o postanowieniach karnych za przeciwdziałanie wyborom do sejmu i wykonywaniu obowiązków poselskich z d . 8 stycznia 1919 r .  dz . pr . nr . 5 za 1919 r . poz . 96  . 15  dekret o nadaniu praw wyborczych obywatelom , którzy po d . 5 grudnia 1918 r . powrócili dokraju z dnia 11 stycznia 1919 r .  dz . pr . nr . 5 za 1919 rok poz . 97  . 16  dekret o organizacji policji komunalnej z dnia 9 stycznia 1919 r .  dz . pr . nr . 5 za 1919 r . poz . 98  . 17  dekret o przedłużeniu terminu wyborów do sejmu ustawodawczego w drugim okręgu wyborczym z dnia 14 stycznia 1919 r .  dz . pr . nr .  3 za 1919 r . poz . 101  . 18  dekret o przedłużeniu terminu wyborów do sejmu ustawodawczego w dwudziestym okręgu wyborczym z dnia 14 stycznia 1919 r .  dz . pr . nr . 6 za 1919 r . poz . 102  . 19  dekret o karach za przechowywanie lub użycie broni palnej i materiałów wybuchowych w miejscowości ogłoszonej w stanie wyjątkowym z d . 11 stycznia 1919 r .  dz . pr . nr . 6 za 1919 r . poz . 103  . 20  dekret w przedmiocie przywrócenia mocy obowiązującej artykułom : 99  102 kod . kar . z 1903 r . z dnia 11 stycznia 1919 roku  dz . pr . nr . 7 za 1919 rok poz . 107  . 1919 21  dekret o nabywaniu i posiadaniu brani i amunicji z dnia 25 stycznia 1919 roku  dz . pr . nr . 9 za 1919 rok poz . 128  . 22  dekret o tymczasowej ustawie o samorządzie miejskim z dnia 4 lutego 1919  dz . pr . nr . 13 za 1919 poz . 143  . 23  dekret o tymczasowej ordynacji powiatowej dla obszarów polskich zaboru rosyjskiego z dnia 4 lutego 1919 roku .  dz . pr . nr . 13 za 1919 poz . 141  . 24  dekret w przedmiocie skarbowości gmin miejskich z dnia 7 lutego 1919 r .  dz . pr . nr . 14 za 1919 poz . 150  . 25  dekret w przedmiocie uzupełnienia przepisów o organizacji milicji ludowej z dnia 7 lutego 1919 r .  dz . pr . nr . 14 za 1919 poz . 153  . 26  dekret w przedmiocie przepisów tymczasowych o uprawnieniu komisarzy ludowych do wymierzania kar w drodze j ustępowania administracyjno  karnego z dnia 7 lutego 1919 r .  dz . pr nr . 14 za 1919 poz . 154  . 27  dekret , o częściowej zmianie dekretu z d . 2 stycznia 1919 r . o wprowadzeniu stanu wyjątkowego z dnia 7 lutego 1919 r .  dz . pr . nr . 14 za 1919 poz . 150  . dekret w przedmiocie przepisów tymczasowych dla ubezpieczeń wzajemnych budowli od ognia w b . królestwie polskiem z d . 7 lutego 1919 r .  dz . pr . nr . 19 za 1919 poz . 190  . 29  dekret w przedmiocie przepisów tymczasowych o widowiskach z dnia 7 lutego 1919 r .  dz . pr . nr . 14 za 1919 poz . 177  . 30  dekret w przedmiocie przepisów tymczasowych o zakładach drukarskich zakładach druków z d . 7 lutego 1919 roku .  dz . pr . nr . 14 za 1919 poz . 14  5  . 31  rozporządzenie o wysokości dodatków krajowych do państwowych podatków na potrzeby galicji w r . 1919 z d . 4 lutego 1919 r .  dz . pr . nr . 14 z . l 1919 poz . 189  . 32  dekret w przedmiocie uprawnienia do udziału w obradach sejmu ustawodawczego polaków , którzy w r . 1918 posiadali mandat poselski do parlamentu rzeszy niemieckiej z dnia t lutego 1919 r .  dz . pr . nr . 14 za 1919 poz . 193  . 33  dekret przodmiocie skarbowości powiatowych związków komunalnych z dnia 7 lutego 1919 .  dz . pr . nr . 14 za 1919 poz . 151  . 34  dekret w przedmiocie przepisów prasowych z dnia 7 lutego 1919 r .  dz . pr . nr . 14 za 1919 poz . 186  . dekrety przedstawione przez ministerstwo skarbu . 1  dekret rady regencyjnej królestwa polskiego w sprawie wypuszczenia pożyczki państwowej z dnia 30 .  1918 r .  dz . pr . nr . 14  data ogłoszenia 2 . i 1918 r .  2  ustawa polskiej krajowej kasy pożyczkowej z dnia 7 . ii 1918 r .  dz . pr . nr . 19  data ogłoszenia 14 . ii 1918 roku  . 3  dekret w przedmiocie przyznania magistratowi miasta łodzi kredytu w wysokości 7,000,000 marek z d . 16 . ii 1918 r .  dz . pr . nr . 20  data ogłoszenia 20 . ii 1918 r .  . 4  dekret o zatwierdzeniu i zmianie statutu spółek akcyjnych z d . 24 . ii  dz . pr . nr . 1  data ogłoszenia 3 . i 1919 r .  . 5  dekret w przedmiocie upoważnienia dyrekcji polskiej krajowej kasy pożyczkowej do przygotowania 500,000,000 marek polskich z dnia 31 . ii 1918 r .  dz . pr . nr . 4  data ogłoszenia 10 . i 1919 r .  . 6  dekret w przedmiocie opłat skarbowych od umów ubezpieczenia z dnia 7 stycznia 1919 r .  dz . pr . nr . 7  data ogłoszenia 18 stycznia 1919 r .  . 7  dekret w przedmiocie przepisów skarbowych dla obszarów polski , które podlegały władzy b . cesarsko  niemieckiego naczelnego dowódcy na wschodzie z d . 7 stycznia 1919 r .  dz . pr . nr . 7  data ogłoszenia d . 18 stycznia 1919 r .  . 8  dekret w przedmiocie opłat od podań oraz od świadectw urzędowych z 7 lutego 1919 r .  dz . pr . nr . 14 za 1919 poz . 145  . 9  dekret w przedmiocie wprowadzenia podatku majątkowego z 5 lutego 1919 r .  dz . pr . nr . 12 za 1919 r . poz . 135  . 10  dekret w przedmiocie wprowadzenia podatków od zysków wojennych z 5 lutego 1919 r .  dz . pr . nr . 12 za 1919 poz . 136  . 11  dekret w przedmiocie organizacji najwyższej izby kontroli państwa z 7 lutego 1919 .  dz . pr . nr . 14 za 1919 poz . 183  . 12  dekret o prokuratorii generalnej rzeczypospolitej polskiej z 7 lutego 1919 .  dz . pr . nr . 14 za 1919 poz . 181  . 13  dekret o poborze jednorazowej daniny od nieruchomości i majątków w kapitale z d . 29 . i 1919 .  dz . pr . nr . 11 za 1919 poz . 128  . 14  dekret w sprawie uregulowania produkcji spirytusu z d . 29.1 1919 r .  dz . pr . nr . 11 za 1919 poz . 130  . 15  dekret o skarbie narodowym powstałym z ofiar prywatnych z d . 29.1 1919 r .  dz . pr . nr . 11 za 1919 poz . 129  . 16  dekret o zakazie wy wozu kruszców w monetach , sztabach i wyrobach z 4 lutego 1919 r .  dz . pr . nr . 13 za 1919 p . 144  . 17  dekret o amnestii podatkowej z 7 lutego 1919 .  dz . pr . nr . 14 za 1919 p . 191  . 18  dekret o zmianie ustawy tow . kredytowego ziemskiego z 7 lutego 1919  dz . pr . nr . 14 za 1919 p . 179  . 19  dekret w przedmiocie jednostki monetarnej waluty polskiej z dnia 5.11 1919 r .  dz . pr . nr . 14 za 1916 p . 174  20  dekret w przedmiocie upoważnienia dyrekcji polskiej krajowej kasy pożyczkowej do dalszego przygotowania 250,000,000 marek polskich z 7 lutego 1919  dz . pr . nr . 14 za 1919 p . 167  . 21  dekret w przedmiocie przeznaczenia 75,000,000 mk . na ulgowe pożyczki dla przemysłowców z 7 lutego 1919  dz . pr . nr . 14 za 1919 p . 196  . 22  dekret w sprawie ustalenia kompetencji ministra skarbu co do kierownictwa sprawami stowarzyszeń współdzielczych oraz kas gminnych . dekrety przedstawione przez ministerstwo przemysłu i handlu . 1  dekret o sekwestrze surowców , półfabrykatów i towarów .  dz . pr . nr . 17 za 1918 r . poz . 44  . 2  dekret w przedmiocie utworzenia urzędu rozdzielczego w celu centralizacji zamówień rządowych .  dz . pr . nr . 19 za 1918 r . poz . 55  3  dekret tymczasowy o urzędzie patentowym  dz . pr . nr . 21 za 1918 r . poz . 66  . 4  dekret o zatwierdzaniu i zmianie statutów spółek akcyjnych .  dz . pr . nr . 1 za 1919 r . poz . 78  . 5  dekret w przedmiocie sekwestru surowców , półfabrykatów i towarów .  dz . pr . nr . 10 za 1919 r . poz . 124  . 6  dekret o patentach na wynalazki .  dz . pr . nr . 13 za 1919 r . poz . 137  . 7  dekret o ochronie wzorów rysunkowych i modeli .  dz . pr . nr . 13 za 1919 r . poz . 138  . 8  dekret o ochronie znaków towarowych .  dz . pr . nr . 13 za 1919 r . poz . 139  . 9  dekret w przedmiocie sekwestru skór i garbników .  dz . pr . nr . 14 za 1919 r . poz . 157  . 10  dekret w przedmiocie zatwierdzania statutów zrzeszeń handlowo  przemysłowych o kapitale zmiennym , z 7 lutego 1919 r . 11  dekret w przedmiocie sekwestru zbiorników i cystern naftowych .  dz . pr . nr . 14 za 1919 r . poz . 69  . 12  dekret o przekazaniu dozoru nad kotłami parowymi   warszawskiemu stowarzyszeniu dozoru nad kotłami parowymi  .  dz . pr . nr . 14 za 1919 r . poz . 158  . 13  dekret o wywozie towarów za granicę , przywozie z zagranicy i przewozie tranzytowym .  dz . pr . nr . 15 za 1919 r . poz . 216  . 14  dekret o miarach .  dz . pr . nr . 15 za 1919 r . poz . 211  . dekrety od ministerstwa sprawiedliwości . 1  dekret w przedmiocie niektórych zmian w kodeksie karnym i ustawie postępowania karnego .  dz . pr . nr . 20 za 1918 r . poz . 57  . 2  dekret w przedmiocie przepisów o moratorium mieszkaniowym dla pozostających bez pracy  dz . pr . nr . 20 za 1918 r . poz . 62  . 3  dekret w przedmiocie uzupełnienia i zmiany przepisów tymczasowych o moratorium w okręgu sądu apelacyjnego lubelskiego  dz . pr . nr . 21 za 1918 r . poz 71 .  dekret w przedmiocie przedłużenia terminów wekslowych w okręgu sądu apelacyjnego warszawskiego  dz . nr . 21 za 1918 r . poz . 72  . 5  dekret w przedmiocie złagodzenia niektórych kar wymierzonych przez b . sądy okupacyjne niemieckie  dz . pr . nr . 21 za 1918 r . poz . 73  . 6  dekret w przedmiocie statutu tymczasowego palestry państwa polskiego  dz . pr . nr . 22 za 1918 r . poz . 75  . 7  dekret w przedmiocie objęcia zarządu wymiaru sprawiedliwości w b . zaborze austriackim  dz . pr . nr . 23 za 1918 r . poz . 79  . 8  dekret w przedmiocie utworzenia sądu okręgowego w białej , gub . siedleckiej  dz . pr . nr . 1 za 1919 r . poz . 77  . 9  dekret w przedmiocie przywrócenia mocy obowiązującej części czwartej kodeksu karnego z 1993 r .  dz . pr . nr . 1 za 1919 r . poz . 81  . 10  dekret w przedmiocie wyborów sędziów handlowych  dz . pr nr . 3 za 1919 r . poz . 83  . 11  dekret w przedmiocie utworzenia sądu okręgowego w suwałkach  dz . pr . nr . 8 za 1919 r . poz . 115  . 12  dekret w przedmiocie zawieszenia biegu terminów i przedawnień  dz . pr . nr . 9 za 1919 r . poz . 121  . 13  dekret w przedmiocie rozciągnięcia na okręgi : bialski i suwalski przepisów dotyczących zarządu i wymiaru sprawiedliwości .  dz . pr . nr . 14 za 1919 r . poz . 188  . 14  dekret o nietykalności członków sejmu ustawodawczego .  dz . pr . nr . 14 za 1919 r . poz . 178  . 15  dekret o dyslokacji sądów .  dz . pr . nr . 14 za 1919 r . poz . 170  . 16  dekret w przedmiocie taksy dla komorników sądowych  dz . pr . nr . 12 za 1919 r . poz . 131  . 17  dekret o odpowiedzialności ławników .  dz . pr . nr . 14 za 1919 r . poz . 160  . 18  dekret w przedmiocie organizacji okręgowych dyrekcji więziennych .  dz . pr . nr . 14 za 1919 r . poz . 173  . 19  dekret w przedmiocie utworzenia sądów dla nieletnich .  dz . pr . nr . 14 za 1919 r . poz . 171  . 20  dekret o tymczasowych przepisach więziennych .  dz . pr . nr . 15 za 1919 r . poz . 202  . 21  dekret o rejestrze handlowym .  dz . pr . nr . 14 za 1919 r . 164  . 22  dekret o spółkach z ograniczoną odpowiedzialnością .  dz . pr . nr . 15 za 1919 r . poz . 201  . 23  dekret w przedmiocie ustroju sądu najwyższego .  dz . pr . nr . 15 za 1919 r . poz . 199  . 24  dekret w przedmiocie przepisów tymczasowych o wynagrodzeniu adwokatów .  dz . pr . nr . 15 za 1919 r . poz . 203  . 25  dekret w przedmiocie zmian w urządzeniach wymiaru sprawiedliwości w b . zaborze austriackim .  dz . pr . nr . 15 za 1919 r . poz . 200  . 26  dekret w przedmiocie taksy dla pisarzy hipotecznych .  dz . pr . nr . 15 za 1919 r . poz . 204  . 27  dekret w przedmiocie przepisów tymczasowych o obrońcach sądowych i obrońcach przy sądach pokoju .  dz . pr . nr . 15 za 1919 r . poz . 205  . 28  dekret w przedmiocie uchylenia rozporządzeń b . władz okupacyjnych w zakresie sądowego prawa karnego dla osób cywilnych .  dz . pr . nr . 15 za 1919 poz . 206  . 29  dekret w przedmiocie zmiany art . 5 , dekretu o karach za lichwę wojenną z dnia 8 lutego 1919 r . 30  dekret w przedmiocie tekstu kodeksu karnego z dnia 8 lutego 1919 r . dekrety przedstawione przez ministerstwo ochrony pracy i opieki społecznej . 1  dekret o 8  o godzinnym dniu pracy , zatwierdzony przez naczelnika państwa dnia 23 listopada 1918 r . i ogłoszony w numerze 17 dz . pr . dn . 29 listopada 1918 r.p . 42 . 2  dekret tymczasowy o urządzeniu i działalności inspekcji pracy , zatwierdzony przez naczelnika państwa dnia 3 stycznia 1919 r . i ogłoszony w numerze 5 dz . pr . dn . 13 stycznia 1919 r . p . 90 . 3  przepisy tymczasowe o wynagrodzeniu urzędników inspekcji pracy , zatwierdzone przez naczelnika państwa dn . 3 stycznia 1919 r . i ogłoszone w nr . 5 dz . pr . dn . 13 stycznia 1919 roku . p . 91 . 4  dekret o obowiązkowym ubezpieczeniu na wypadek choroby , zatwierdzony przez naczelnika państwa dn . 11 stycznia 1919 r . i ogłoszony w nr . 9 dz . pr . d . 29 stycznia 1919 r.p . 122 . 5  dekret o organizacji państwowych urzędów pośrednictwa pracy i opieki nad wychodźcami , zatwierdzony przez naczelnika państwa dn . 27 stycznia i 1919 r . i ogłoszony w nr . 11 dz . pr . d . 4 lutego 1919 r . p . 127 . i 6  dekret w przedmiocie tymczasowych przepisów o pracowniczych związkach zawodowych , zatwierdzony przez naczelnika państwa d . 8 lutego 1919 r . i ogłoszony w nr . 15 dz . pr . p . 209 . dekrety przedstawione przez ministerstwo robót publicznych . 1  dekret o utworzeniu ministerstwa robót publicznych z dn . 25 stycznia 1919 r .  dz . pr . nr . 8 za 1919 p . 118  . 2  tymczasowe przepisy o zarządzie drogami kołowemi z 7 lutego .  dz . pr . nr . 14 za 1919 r . p . 149  . 3  dekret w przedmiocie tymczasowych przepisów budowlanych na  nieczytelne  b . zaboru rosyjskiego , z dn . 7 lutego 1919 r .  dz . pr . nr . 14 za 1919 r . p . 176  . 4  dekret o przeniesieniu spraw żeglugi z ministerstwa komunikacji do ministerstwa robót publicznych , z dn . 8 lutego 1919 r . dekrety przedstawione przez ministerstwo sztuki i kultury : 1  dekret rady regencyjnej o opiece nad zabytkami sztuki i kultury z dnia 31 października 1918 r . , ogłoszony w dz . pr . dnia 8 listopada 1918 r . nr . 16 poz . 36  . 2  statut rady sztuk pięknych zatwierdzony reskryptem rady regencyjnej dnia 13 września 1918 r . , ogłoszony w monitorze polskim dnia 18 września 1918 r . nr . 152 . 3  dekret o utworzeniu ministerstwa sztuki i kultury , z dnia 5 grudnia 1918 r . , ogłoszony w dz . pr . z dnia 14 grudnia 1918 r . nr . 19  poz . 52  . 4  dekret o zatwierdzaniu projektów pomników ze stanowiska artystyczne go z dnia 3 stycznia 1919 r . , ogłoszony w dz . pr . z dnia 13 stycznia 1919 r . nr . 5  poz . 93 j . 5  dekret w przedmiocie zmiany ustawy instytutu muzycznego z dnia 23 maja 1889 r . , uchwalony przez radę ministrów i zatwierdzony przez naczelnika państwa w dniu 7 lutego 1919  dz . pr . nr . 15 za 1919 p . 214  . dekrety przedstawione przez ministerstwo komunikacji : 1  dekret o wywłaszczeniu przymusowem na rzecz dróg komunikacyjnych z 7 lutego 1919  dz . pr . nr . 14 za  nieczytelne  p . 162  . 2  dekret o tymczasowem wydaniu przepisów przewozowych i taryfowych z 7 lutego 1919  dz . pr . nr . 14 za 1919 p . 152  . 3  dekret o unieważnieniu koncesji na budowę kolei wydanych przez b . rząd rosyjski i b . władze okupacyjne z 7 lutego 1919  dz . pr . nr . 14 za 1919 p . 195  . 4  dekret o przejściu kolei  nieczytelne  przez b . władze okupacyjne pod zarząd ministerstwa kolei z 7 lutego 1919  dz . pr . nr . 14 za 1919 p . 155  . 5  dekret z ustawą tymczasowej kasy przezorności pracowników kolei państwowych polskich w b . zaborze rosyjskim z 8 lutego 1919  dz . pr . nr . 15 za 1919 p . 210  . dekrety przedstawione przez ministerstwo aprowizacji : 1  dekret z dnia 26 października 1918  dz . pr . nr . 14 poz . 30  o utworzeniu ministerstwa aprowizacji . 2  dekret z dnia 18 grudnia 1918 r .  dz . pr . nr . 21 poz . 69  w sprawie utworzenia państwowego urzędu zakupu artykułów pierwszej potrzeby . 3  dekret w sprawie statutu państwowego urzędu zakupu artykułów pierwszej potrzeby z dnia 2 stycznia 1919 r .  dz . urz . nr . 7  . 4  dekret z dnia 18 grudnia 1918 r .  dz . pr . nr . 21 poz . 70  w sprawie utworzenia straży granicznej . 5  dekret z dnia 11 stycznia 1919 r .  dz . pr . nr . 7 poz . 108  w sprawie utworzenia państwowej rady aprowizacyjnej . 6  dekret z dnia 11 stycznia 1919 r  dz . pr . nr . 7 poz . 109  w sprawie utworzenia urzędu walki z lichwą i spekulacją przy ministerstwie aprowizacji . 7  dekret z dnia 11 stycznia 1919 r .  dz . pr . nr . 8 poz . 114  w sprawie utworzenia tymczasowych powiatowych rad aprowizacyjnych . 8  dekret z dnia 29 stycznia 1919 r .  dz . pr . nr . 10 poz . 126  w sprawie odpowiedzialności za niedostarczanie ziemiopłodów w terminach przepisanych . 9  dekret z dnia 30 stycznia 1919 r .  dz . pr . nr . 11 poz . 130  w sprawie uregulowania produkcji spirytusu . dekrety przedstawione przez ministerstwo wyznań religijnych i oświecenia publicznego : 1  dekret rady regencyjnej o opiece nad zabytkami sztuki i kultury z dnia 31 października 1918 r .  dzien . praw z dnia 8 listopada 1818 r . nr 16 poz . 36  . 2  dekret o utworzeniu ministerstwa sztuki i kultury z dnia 5 grudnia 1918 r .  dz . praw z dnia 14 grudnia 1918 r . nr . 19 poz . 52  . 3  dekret tymczasowy o stabilizacji i wynagrodzeniu nauczycieli szkół powszechnych z dnia 18 grudnia 1918 r .  dz . praw z dnia 28 grudnia 1918 r . nr . 21 poz . 65  . 4  dekret w przedmiocie mianowania pierwszego składu profesorów w uniwersytecie warszawskim z dnia 7 stycznia 1919 r .  dz . praw z dnia 13 stycznia 1919 r . nr . 5 poz . 94  . 5  dekret w przedmiocie mianowania pierwszego składu profesorów w politechnice warszawskiej z dnia 8 stycznia 1919 r .  dz . praw z dnia 13 stycznia 1919 r . nr . 5 poz . 95  . 6  dekret o obowiązku szkolnym z dnia 7 lutego 1919 r .  dz . praw z . lutego 1919 r . nr . 14 poz . 147  . 7  dekret o fundacjach i zatwierdzaniu darowizn i zapisu dnia 7 lutego 1919 r .  dz . praw z lutego 1919 r . nr . 15 poz 215  . 8  dekret o rozciągnięciu na wydział teologiczny uniwersytetu warszawskiego mocy obowiązującej dekretu w przedmiocie mianowania pierwszego składu profesorów tegoż uniwersytetu z dnia 7 lutego 1919 r .  dz . praw z lutego 1919 r . nr . 14 poz . 165  . 9  dekret o wprowadzeniu języka polskiego jako wykładowego w 2  gim gimnazjum we lwowie z dnia 7 lutego 1919 r .  dz . praw z lutego 1919 r . nr . 14 poz . 166  . 10  dekret o kształceniu nauczycieli szkół powszechnych w państwie polskiem dnia 7 lutego 1919 r . ogłoszony w dz . praw z lutego 1919 r . nr . 14 p . 185 . 11  dekret o zmianach w organizacji gmin wyznaniowych żydowskich na terytorium b . królestwa kongresowego z dnia 7 lutego 1919 r .  dz . praw z lutego 1919 r . nr . 14 p . 175 .  . 12  dekret o odpowiedzialności dyscyplinarnej nauczycieli publicznych szkół powszechnych i postępowaniu dyscyplinarnym z dnia 7 lutego 1919 r .  dz . praw z lutego 1919 r . nr . 14 p . 187  . 13  dekret o szkołach z niemieckim językiem wykładowym z dn . 7 lutego 1919 r .  dz . praw z dnia 7 lutego 1919 r . nr . 14 p . 192  . 14  statut szkoły głównej gospodarstwa wiejskiego w warszawie z dnia 7 lutego 1919 r .  dz . praw z dnia 7 lutego 1919 r . nr . 14 p . 148  . 15  dekret o organizacji archiwów państwowych i opiece nad archiwaliami z dn . 7 lutego 1919 r .  dz . praw z lutego 1919 r . nr . 14 p . 182  . 16  dekret o zmianie przepisów przechodnich do dekretu o stabilizacji i wynagrodzeniu nauczycieli szkół powszechnych z dnia 18 grudnia 1918 r . ,  dz . praw z lutego 1919 r . nr . 15 p . 208  . dekret przedstawiony przez ministerstwo spraw zagranicznych : 1  dekret o utworzeniu ministerstw : spraw zewnętrznych , spraw wojskowych , komunikacji i aprowizacji z dnia 26 października 1918 r .  dz . praw nr . 14 poz . 30  . dekrety przedstawione przez ministerstwa rolnictwa i dóbr państwowych : 1  reskrypt rady regencyjnej w przedmiocie utworzenia państwowej rady rolniczej przy ministerstwie rolnictwa i dóbr koronnych z dnia 19 lipca 1918 r .   mon . pol .  nr . 105 dn . 25 lipca 1918 r .  2  reskrypt rady regencyjnej w przedmiocie wyłączenia z kompetencji ministra wyznań religijnych i oświecenia publicznego zarządu szkolnictwa rolniczego niższego stopnia i przekazania tegoż zarządu ministrowi rolnictwa i dóbr koronnych z dn . 7 września 1918 r .   mon . pol .  nr 148 z dn . 13 września 1918 r .  3  dekret rady regencyjnej w przedmiocie przepisów tymczasowych o urzędach ziemskich z dnia 11 października 1918 r .  dz . praw nr . 11 dn . 16 października 1918 r . poz . 22  , oraz dołączone do tegoż dekretu przepisy we o urzędach ziemskich . 4  dekret rady regencyjnej w przedmiocie dóbr donacyjnych z dnia 1  go listopada 1918 r .  dz . praw nr . 15 z dnia 5 listopada 1918 r . poz . 35  . 5  dekret naczolnika państwa w przedmiocie przymusowego zarządu państwowego z dnia 16 grudnia 1918 r .  dz . pr . nr . 21 z dn . 28 grudnia 1918 r . poz . 67  . 6  dekret naczelnika państwa w przedmiocie ochrony majątków nieobecnych właścicieli z dn . 16 grudnia 1918 r .  dz . pr . nr . 21 z dn . 28 grudnia 1918 r . poz . 68  . 7  dekret naczelnika państwa w przedmiocie wyłączenia z kompetencji ministra spraw wewnętrznych służby weterynaryjnej i przekazanie tejże służby kompetencji ministra rolnictwa i dóbr państwowych z dn . 31 grudnia 1918 r .  dz . pr . nr . 5 z dn . 13 stycznia 1919 r . poz . 92  . 8  dekret naczelnika państwa w przedmiocie umów zawartych przez b . władze okupacyjne co do majątku państwowego z dn . 11 stycznia 1919 r .  dz . pr . nr 5 . z dn . 13 stycznia 1919 r . poz . 99 .  9  dekret naczelnika państwa w przedmiocie organizacji urzędów ochrony lasów z dn . 16 stycznia 1919 r .  dz . pr . nr . 8 z dnia 25 stycznia 1919 r . poz . 118  . 10  dekret naczelnika państwa w przedmiocie rozciągnięcia mocy obowiązującej przepisów tymczasowych o urzędach ziemskich na galicję i ślązk z lutego 1919 r . 11  dekret naczelnika państwa w przedmiocie rekwizycji lokali na potrzeby urzędów państwowych z 8 lutego 1919 r .  dz . pr . nr . 14 za 1919 r . poz . 197  . 12  dekret naczelnika państwa w przedmiocie przeniesienia siedziby centralnej kasy spółek rolniczych ze lwowa do warszawy z 8 lutego 1919 r .  dz . pr . nr . 15 za 1919 r . poz . 212  . 13  dekret naczelnika państwa w przedmiocie statutu polskiego państwowego banku rolnego z lutego 1919 r . 14  dekret naczelnika państwa upoważniający ministra rolnictwa i dóbr państwowych do podjęcia parcelacji majątków b . ros . banku włościańskiego i do wydzierżawiania dóbr państwowych małorolnym i bezrolnym z dn . 8 lutego 1919 r . i dz . pr . nr . 14 za 1919 r . poz . 156  . dekrety przedstawione przez ministerstwo zdrowia publicznego : 1  dekret o utworzeniu ministerstwa zdrowia publicznego , opieki społecznej i ochrony pracy , z dn . 4 kwietnia 1918 r .  dz . pr . nr . 5 za 1918 r . p . 8  . 2  dekret o utworzeniu ministerstwa zdrowia publicznego i opieki społecznej i ministerstwa ochrony pracy z dn . 30 października 1918 r .  dz . pr . nr . 14 za 1918 r . p . 31  3  przepisy o ustanowieniu państwowego nadzoru mieszkaniowego z dn . 11 stycznia 1919 r .  dz . pr . nr . 7 za 1919 r . p . 110  . 4  dekret o ochronie lokatorów i za pobieganiu brakowi mieszkań z dn . 16 stycznia 1919 r .  dz . pr . nr . 8 za 1919 r . p . 116  . 5  dekret o przymusowym szczepieniu ochronnym przeciwko ospie z 7 lutego 1919  dz . pr . nr . 14 za 1919 r . p . 180  . 6  dekret w przedmiocie zwalczania chorób zakaźnych i innych chorób występujących nagminnie z 7 lutego 1919 r .  dz . pr . nr . 14 za 1919 r . p . 184  . 7  państwowa zasadnicza ustawa sanitarna z 8 lutego 1919 r .  dz . pr . nr . 15 za 1919 r . p . 267  . 8  dekret w sprawie zmiany dekretu o państwowym urzędzie do spraw jeńców . 9  dekret o nadzorze nad wyrobem i sprzedażą artykułów zastępczych  surogatów , produktów spożywczych i przedmiotów użytku publicznego z 7 lutego 1919 r .  dz . pr . nr . 14 za 1919 i r . p . 161  . dekrety przedstawione przez ministerstwo spraw wojskowych : 1  tymczasowa ustawa o powszechnym obowiązku służby wojskowej  dz . pr . nr . 13 1918 r . poz . 28  . 2  dekret w sprawie zmiany art . 9 dekretu o ordynacji wyborczej do sejmu ustawodawczego  dz . pr . nr . 18 za 1918 p . 46  . 3  dekret w sprawie częściowego poboru  dz . pr . nr . 7 1919 r . poz . 48  . 4  dekret w przedmiocie niektórych zmian w tymczasowej ustawie o powszechnym obowiązku służby wojskowej  dz . pr . nr . 8 poz . 119  . 5  dekret o powołaniu do służby czynnej wojskowej lekarzy w wieku do lat 35  ciu  dz . pr . nr . 8 1919 r . poz . 126  . 6  dekret o powołaniu do służby wojskowej lekarzy weterynaryjnych do 45  ciu lat z 6 lutego 1919  dz . pr . nr . 14 za 1919 p . 194  . 7  dekret o odpowiedzialności za uchylenie się od służby wojskowej z 4 lutego 1919  dz . pr . nr . 14 za 1919 p . 168  . 8  tymczasowe przepisy o ustaleniu kompetencji poszczególnych ministerstw w odniesieniu do budownictwa  uchwała rady ministrów z dn . 23 sierpnia 1918 r . i 9 stycznia 1919 r .  9  dekret o poborach oficerów , podoficerów i szeregowców  dz . roz . min . spr . wojsk . nr . 6 1918 r . poz . 110  . 10  dekret o wypłatach za medale austriackie  dz . roz . woj . nr . 10 1918 r . poz . 231  . 11  dekret o dodatkach dla oficerów w poselstwie w wiedniu  dz . roz . woj . nr . 10 1918 r . poz . 232  . 12  dekret o dodatkach funkcyjnych  dz . roz . woj . nr . 11 1918 r . poz . 268  . 13  dekret o ustanowieniu majstrów wojskowych  dz . roz . woj . 1918 r . nr . 11 poz . 274  . 14  dekret o przepisach o sanitariuszkach i pielęgniarkach  dz . roz . wojsk . nr . 10 1919 r . poz . 372  . 15  rozkaz o dodatku na wiekwipowanie dla oficerów  dz . roz . wojsk . nr . s 1918 r . poz . 163  . 16  rozkaz o dodatku dla oficerów poselstwa polskiego w kijowie  dz . roz . wojsk . nr . 8 1918 r . poz . 166  . 17  rozkaz o dodatku podręcznym dla żołnierzy  dz . roz . woj . nr . 10 1918 r . poz . 259  . 18  rozkaz o dodatku dla lotników , pilotów i obserwatorów  dz . rozk . woj . nr . 1 1919 r . poz . 26  . 19  rozkaz o poborach oficerów przy zwalnianiu ze służby czynnej  dz . rozk . wojsk . nr . 7 1018 poz . 286  . 20  rozkaz o dodatkach polowych dla oficerów operujących na frontach  dz . rozk . wojsk . nr . 12 1919 r . poz . 437  . 21  rozkaz o zasiłkach dla rodzin żołnierzy wojska polskiego . 22  rozkaz o funkcyjnych dodatkach dla sądowników . 23  rozkaz o poborach oficerów i szeregowców przydzielonych dla służby straży granicznej  dz . rozk . wojsk . nr . 14 . 1919 r . poz . 512  . 24  rozkaz w sprawie wykonania robót , remontowych i budowlanych  dz . roz . wojsk . nr . 14 1919 r . poz . 513 .  25  dekret w przedmiocie objęciu przez radę regencyjną władzy zwierzchnej nad wojskiem  dz . pr . nr . 13 1918 r . ust . 26  . 26  dekret o przystąpieniu do formowania narodowej armii regularnej  dz . pr . nr . 13 1918 ust . 27  . 27  dekret w przedmiocie ustanowienia urzędu szefa sztabu wojsk polskich  dz . pr . nr . 13 1918 ust . 29  . 28  dekret w przedmiocie tworzenia armii narodowej  dz . pr . nr . 15 1918 r . ust . 34  . 29  dekret o wyjęciu z pod mobilizacji osób pełniących służbę przy władzach i urzędach państwowych  dz . pr . nr . 19 1918 r . ust . 54  . dekrety przedstawione przez ministerstwo poczt i telegrafów : 1  dekret o ustawie pocztowej . 2  dekret o powołaniu do życia   pocztowej kasy oszczędnościowej  z 7 lutego 1919  dz . pr . nr . 14 za 1919 p . 163  . dekrety powyższe będą przesłane do mającej się wybrać komisji prawniczej . zapraszam przywódców frakcji na posiedzenie konwentu seniorów na godzinę 7 dziś wieczór w salonie marszałka , celem omówienia podziału posłów na wydziały dla sprawdzania mandatów podług projektu ułożonego przez biuro sejmowe . mam jeszcze do nadmienienia , że wbrew zarządzeniom biura sejmowego publiczność zajęła część sali sejmowej . naturalnie , że dziś żadnych kroków przeciw temu nie będzie , ale zaznaczam , że na przyszłe posiedzenia publiczność nie będzie do sali dopuszczana  zwłaszcza zaś zastrzegam , żeby publiczność wstrzymywała się od wszelkich braw , oklasków , czy oznak niezadowolenia , gdyż podczas obrad sejmu jest to niedopuszczalne . termin następnego posiedzenia podany będzie przez marszałka osobnem obwieszczeniem , w każdym razie po siedzenie następne odbędzie się nie wcześniej jak za 2 dni . posiedzenie zamykam .  koniec posiedzenia o godz . 12 m . 40  sprawozdanie stenograficzne z 2 . posiedzenia sejmu ustawodawczego z dnia 14 . lutego 1919 r .  początek posiedzenia o godzinie 4 minut 44  . ze strony rządu obecnii : prezydent ministrów i minister i spraw zagranicznych ignacy jan paderewski , minister spraw wewnętrznych stanisław wojciechowski . minister sprawiedliwości leon supiński , minister wyznań religijnych i oświecenia publicznego jan łukasiewicz , minister przemysłu i handlu kazimierz hącia , minister rolnictwa i dóbr państwowych stanisław janicki , minister pracy i opieki społecznej jerzy iwanowski , minister poczt i telegrafów hubert linde , minister kultury i sztuki zenon przesmycki , minister robót publicznych józef próchnik , kierownik ministerstwa komunikacji julian eberhardt , minister skarbu józef englich , minister aprowizacji antoni minkiewicz , minister zdrowia publicznego tomasz janiszewski , kierownik ministerstwa spraw wojskowych pułk . jan wroczyński . podsekretarze stanu : w min . spraw zewnętrznych władysław wróblewski , w min . spr . wewn . józef bekk , w min . sprawiedl . józef światopełk  zawadzki , w min . przem . i handlu henryk strasburger , w min . pracy i op . społ . aleksander pristor , w min . poczt i telegr . jan urbański , w min . kult . i sztuki jan heurich , w min . skarbu władysław byrka , w alin . aprowizacji janusz machnicki , w min . zdrowia publ . otwieram posiedzenie sejmu . protokuł pierwszego posiedzenia znajduje się w biurze sejmu do przejrzenia . przystępujemy do porządku dziennego , którego pierwszym punktem jest zatwierdzenie tymczasowego regulaminu sejmu . w sprawie tej udzielam głosu referentowi konwentu seniorów , posłowi korfantemu . szanowni koledzy ! zadaniem konwentu seniorów jest właściwie przygotowanie prac sejmu . atoli , gdy konwent seniorów się zeszedł , okazało się , że z powodu napływu znacznej liczby publiczności do sali na poprzednim posiedzeniu sejmu , było rzeczą niemożebną już wtedy wybrać odrazu komisję regulaminową , któraby rozpatrzyła przedłożony nam dziś łaskawie przez rząd projekt regulaminu . konwent zszedłszy się nasamprzód ukonstytuował się w ten sposób , że uchwalili śmy jednomyślnie , że każda partia , każdy klub czy każda frakcja , licząca najmniej 12 członków , będzie miała prawo wysłać do konwentu seniorów jednego przedstawiciela . postanowił też konwent , że ilość głosów klubów w nim reprezentowanych zależeć ma od tego , ile razy liczba 12 mieścić się będzie w ogólnej liczbie członków danego klubu . potem konwent seniorów zastanawiał się nad tem , co zrobić z projektem regulaminu , przez rząd przedłożonym . komisji regulaminowej nie było , kompetencji zaś od pełnej izby co do o przejrzenia i obradowania nad tym projektem konwent seniorów nie otrzymał . wobec tego przedstawiciele klubów , reprezentowanych na konwencie seniorów , zwrócili się do swoich klubów z prośbą o zgodzenie się na to , by konwent seniorów zamieni ! się w komisję regulaminową , czyli przybrał równocześnie charakter komisji regulaminowej . na to się powszechnie zgodzono . konwent seniorów w charakterze komisji regulaminowej odbył trzy długie posiedzenia i na tych posiedzeniach uchwalił ten tymczasowy regulamin , który zalecam panom do jednomyślnego przyjęcia . zmiany , dokonane przez konwent seniorów zobaczą panowie porównując nowy projekt z projektem , który nam rząd swego czasu doręczył . oprócz tego konwent seniorów był zdania ,  a nie mieści się to w niniejszym projekcie regulaminu tymczasowego ,  że wybory prezydjum sejmu , których dziś dokonamy , są według zwyczajów panujących we wszystkich parlamentach , tylko wyborami tymczasowymi i że za 4 tygodnie wybory prezydjum sejmowego mają być powtórzone i ostatecznie dokonane . z polecenia komisji regulaminowej mam zaszczyt prosić szanownych kolegów aby ście zechcieli projekt regulaminu wam przedłożony jednomyślnie i bez dyskusji en bloc przyjąć . jako referent chciał by m swój referat uzupełnić jedną poprawką . przedłożony szanownym panom kolegom projekt o tyle ma się zmienić w uchwale sejmowej , że w art . 8 w miejsce słowa   ośmiu  należy wstawić słowo   dziewięciu  , tak , że odnośny ustęp w art . 8 będzie brzmiał :  pięciu zastępców marszałka , a następnie dziewięciu sekretarzy  . rozprawa otwarta . głos ma pos . dr . ton . wysoki sejmie ! imieniem sejmowego klubu narodowo żydowskiego mam zaszczyt oświadczyć co następuje : regulamin sejmowy , którego przyjęcie en bloc jest przez konwent seniorów proponowane , a któremu jako prowizorycznemu należy rokować długi żywot , przyszedł do skutku bez naszego udziału , albowiem zaraz na pierwszem swojem zebraniu konwent seniorów uchwalił , pomimo naszego uzasadnionego sprzeciwu , dopuścić do przedstawicielstwa w swoim gronie tylko takie ugrupowania sejmowe , które liczą conajmniej 12 członków . reprezentacja żydowska w sejmie takiej liczby nie osiągnęła , bo ordynacja wyborcza , łącząca wieś z miastem , a oparta na okręgach o nielicznych mandatach , do zupełnego zmajoryzowania żydów snać dążyła i doprowadziła . niektóre głosy w prasie , inspirowane widocznie przez pewne koła sejmowe , pocieszają żydów tem , że doliczają do obecnie wybranych posłów żydowskich także tych posłów , którzy tylko z wyznania przyznają się do żydostwa , ale głosy te są zupełnie bezpodstawne , gdyż owi panowie zostali wybrani wśród zupełnie innej orientacji szerokich mas ludności żydowskiej . wybory ostatnie przeprowadzone na najszerszych podstawach , wykazały najdobitniej , że masy żydowskie są zdecydowane zachować swoją narodową odrębność , nie naruszając oczywiście i nie rozluźniając w niczem spoistości , zwartości i suwerenności państwa polskiego . wobec tego uchwała konwentu seniorów wyrzuciła w nas poza nawias nie tylko małą grupę poselską , ale całe zastępstwo żydowskiej mniejszości narodowej . tak samo krzywdzącemi dla nas i prawie uniemożliwiającemi nam wykonywanie naszych mandatów i należytą obronę naszych praw i interesów są inne postanowienia tymczasowego regulaminu , którę do interpolacji i wniosków , jakoteż do zastępstwa w komisjach wymagają liczby posłów przewyższającej naszą liczbę . zakładamy tedy protest przeciwko tym wszystkim krzywdzącym nas postanowieniom i oświadczamy , że się od głosowania nad regulaminem uchylamy i udziału w nim nie bierzemy . proszę o głos w sprawie formalnej . głos ma p . korfanty w sprawie formalnej . z polecenia całego konwentu seniorów składam niniejszym do laski marszałkowskiej wniosek o zamknięcie dyskusji i proszę , aby szanowni koledzy zechcieli ten wniosek przyjąć jednomyślnie . konstatuję , że podług projektu w art . 8 zamiast 8 sekretarzy jest przewidzianych 9 . w kwestii formalnej życzy sobie głosu jeszcze poseł grzędzielski . p . grzędzielski : wysoka izbo ! nie chodziło mi o stawianie wniosku formalnego , tylko o zwrócenie uwagi na to , że w art . 16 i 43 zakradły się omyłki , któro zupełnie zmieniają sens i zamiar ustawodawcy . mianowicie art . 16 brzmi :   wniosek posła może być przyjęty do porządku dziennego , gdy jest poparty podpisami najmniej 15 posłów . wniosek podpisany przez nie mniej jak 15 posłów marszałek może odczytać sejmowi dla uzyskania ostatecznego poparcia wypadało by z tego , że jeżeli jest więcej niż 15 posłów , wniosek potrzebuje dodatkowego poparcia , dlatego trzeba poprawić ten ustęp przez wypuszczenie słowa   nie  . na odwrót zaś w art . 43 jest ustęp :   na wniosek marszałka może być przedsięwzięte drugie czytanie tego samego dnia , co i pierwsze , o ile najmniej 10 posłów temu się sprzeciwiać powinno być   nie sprzeciwia  . należy więc sprostować tę omyłkę przez dodanie słowa   nie  przed słowem  sprzeciwia  . poddaję pod głosowanie wniosek posła korfantego o zamknięcie dyskusji . proszę tych panów , którzy są za tym wnioskiem , ażeby się podnieśli z miejsc . wniosek jednomyślnie przyjęto . teraz proszę panów , którzy są za przyjęciom poprawki w art . 8 o podniesienie się z miejsc . poprawka przyjęta . omyłki , o których mówił p . grzędzielski , są to oczywiście omyłki zecerskie i naturalnie będą poprawione . przechodzimy teraz do przyjęcia regulaminu en bloc . proszę tych panów , którzy są za przyjęciem , ażeby się podnieśli z miejsc . regulamin przyjęty . przechodzimy do następnego punktu porządku dziennego , którym jest wybór marszałka izby . proszę o głos . w imieniu sejmowego związku ludowo  narodowego polecam szanownym kolegom wybór posła trąmpczyńskiego .  okrzyki na lewicy . to niedopuszczalne ! to nie jest czytelnia katolicka w poznaniu ! nie potrzebujemy gospodarza ! niech pan agituje tych , którzy pana ciągnęli  . proszę szanownych kolegów , ja zrozumiał em , że śmy się n konwencie seniorów porozumieli . . . pan niema nic do dysputowania . my tutaj żadnych umów nie mamy , wybory są tajne . w takim razie przepraszam za nieporozumienie . proszę o spokój , bo inaczej nic można obradować . zarządzam przerwę 10minutową , aby posłowie mogli się porozumieć co do wyboru marszałka .  po przerwie  . otwieram na nowo posiedzenie . przystępujemy do wyboru . powołuję do komisji skrutacyjnej posłów bardla , klemensiewicza , bagińskiego skarbka i marka zygmunta . panowie skrutatorzy będą łaskawi stanąć przy urnie wyborczej i w miarę odczytywania listy posłów , każdy powołany z listy przy stąpi i odda swoją kartkę . pierwsi będą odczytani posłowie z królestwa , na drugim miejscu z księstwa poznańskiego , a następnie z galicji . p roszę panów sekretarzy o odczytanie listy posłów królestwa . posłowie składają  kartki . sekretarz p . niedziałkowski odczytuje listę posłów z poznańskiego i z galicji . posłowie składają kartki . muszę zawiadomić , że w liście opuszczony jest poseł wybrany w lipnie , gub . płockiej , ksiądz władysław makowski , który według listu wierzytelnego , przedłożonego prezydjum został legalnie wybrany . powołuję księdza posła mąkowskiego . aby złożył swój głos . już złożył em . ogłaszam głosowanie za ukończone i zarządzam przerwę dla dokonania skrutynium oddanych głosów .  po przerwie  . otwieram posiedzenie na nowo i proszę o ogłoszenie wyniku skrutynjum . wysoki sejmie ! w imieniu komisji skrutacyjnej ogłaszam następujący wynik : głosowało 304 posłów : z tego nieważnych głosów jest 7 . ważnych głosów oddano 297 . absolutna większość jest 149 . otrzymali : poseł witos 144 , poseł trąmpczyński 128 , poseł ostachowski 25 . wobec tego nikt z kandydatów nie uzyskał większości absolutnej i nie został wybrany . musimy przystąpić do ponownych wyborów . proszę tych samych panów skrutatorów o ponowne obliczenie głosów . odbędzie się ponowne wywoływanie nazwisk .  sekretarze czytają listę posłów  posłowie oddają kartki  . zarządzani przerwę dla obliczenia głosów .  po przerwie  . otwieram posiedzenie na nowo . proszę pana przewodniczącego komisji skrutacyjnej ogłosić rezultat głosowania . wysoka izbo ! wynik głosowania przedstawia się następująco : oddano głosów ważnych 305 , potrzebna większość absolutna wynosi 153 . otrzymali głosów : poseł trąmpczyński 155 , poseł witos 149 , dwie kartki oddano białe .  okrzyki , wrzawa na lewicy  . a my przecież chcemy chłopa na marszałka i od tego nie odstąpimy ! jeżeli dawniej mógł nim być szlachcic , niech teraz będzie chłop ! wstydź się ksiądz ! ja się nie mam czego wstydzić , panie korfanty , pan się wstydź ! wybrany zatem został poseł trąmpczyński . zapytuję pana posła trąmpczyńskiego czy mandat przyjmuje . przyjmuję .  zajmuje miejsce marszałkowskie  wysoka izbo ! przedewszystkim pozwólcie panowie , aby m w imieniu was wszystkich serdecznie podziękował naszemu czcigodnemu seniorowi , posłowi ferdynandowi radziwiłłowi , za trudy dotychczasowego marszałkowania . również serdecznie dziękuję większości sejmowej za zaufanie , jakie mi okazała składając w moje ręce urząd marszałka pierwszego sejmu polskiego . ciężki to urząd i ciężka odpowiedzialność . ślubuję , że będę spełniał ten urząd wedle najlepszych sił , tak jak sprawiedliwość nakazuje .  brawa  zawsze o to starać się będę , aby każdy z członków sejmu bez żadnego wyjątku wyniósł przekonanie , że decyzje moje nie są kierowane ani sympatiami , ani antypatiami stronniczemi czy osobistemu  brawa  .  będę stać na straży porządku sejmowego , ale bezsilny będę , jeżeli wy nie udzielicie mi waszej życzliwości , którą przynajmniej powoli od całego sejmu chcę osiągnąć , jeżeli wy nie będziecie działać w przekonaniu , że tylko sejm w porządku obradujący i energicznie pracujący , może dać krajowi ład i porządek , którego skołatana ojczyzna tak pragnie i tak potrzebuje . w murach tych panować ma wolność słowa , ale winni śmy nie zapominać , że wolność nie powinna się wyradzać w swawolę , i że każdy poseł powinien szanować cześć swych kolegów . niech nikt nie upatruje w przeciwniku wroga , niech każdy przemawia i postępuje z tą wiarą , że przeciwnik tak samo jak on pragnie tylko dobra całego kraju .  brawa na prawicy  . może być , że opatrzność stawiając nas w chwili narodzin wolnej polski w tragicznym położeniu wojny na czterech frontach , umyślnie chciała nam ułatwić wewnętrzną zgodę , chciała nas zmusić do wspólnych i trudnych wysiłków dla wielkich celów przyszłości . jeśli ongi upadek naszej ojczyzny i długoletnia niewola narodu była rzeczywiście karą za grzechy polaków , to jednym z tych grzechów była niewątpliwie niekarność dawnych sejmów rzeczypospolitej polskiej  p . korfanty . wielka prawda   dziś , gdy opatrzność nareszcie zmiłowała się nad narodem polskim , kiedy pęta niewoli z nas zrywa , winni śmy wynieść z historii naszej naukę , że wolnym jest nie tylko naród , w którym każdy robi co mu się podoba , ale ten , który sam sobie prawa stanowi i prawom tym jest posłuszny .  brawa i oklaski   w wasze ręce naród złożył obowiązek stanowienia praw , obowiązek wydawania ustaw , które da bóg przetrwać mają wiele pokoleń . nie zapominajmy przy naszych obradach ani na chwilę , że na nas zwrócone są oczy całego świata z ciekawością . ale wiecęj jeszcze pamiętajmy o tem , że owe miliony rodaków , które nas tu wysiały , w swej ciężkiej trosce z zapartym oddechem oczekują tego , co się tu dziać będzie  głosy na prawicy : słusznie !  zakończę pytaniem , czego się naród po nas spodziewa ? otóż naród spodziewa się po nas nie słów , ale czynów .  brawa na prawicy  . przechodzimy do następnego numeru porządku dziennego , t . j . wyboru 5 wicemarszałków . wybór ten przyszedł już kompromisowo do skutku , za zgodą wszystkich stronictw reprezentowanych w konwencie seniorów . według regulaminu ma się wybór 5 wicemarszałków odbywać kartkami , przyjęta atoli jest rzeczą , iż jeżeli nikt nie zaprotestuje , wolno aktu wyboru dokonać przez aklamację . przeczytam listę tych panów , którzy są proponowani na wicemarszałków : poseł jakub bojko , poseł stanisław osiecki , poseł józef ostachowski , poseł andrzej moraczewski i poseł andrzej maj . zapytuję , czy kto z panów protestuje przeciw wyborom przez aklamację . nie słyszę żadnego protestu , a zatem uważać należy tych 5 panów wybranych na wicemarszałków .  oklaski  . zapytuję posła jakuba bojkę , czy wybór przyjmuje ? przyjmuję . zapytuję posła stanisława osieckiego , czy wybór przyjmuje ? przyjmuję , zapytuję posła józefa ostachowskiego , czy wybór przyjmuje ? przyjmuję . zapytuję posła andrzeja moraczewskiego , czy wybór przyjmuje ? przyjmuję . zapytuję wreszcie posła andrzeja maja czy wybór przyjmuje ? przyjmuję . a zatem ten punkt jest załatwiony . przechodzimy do następnego punktu : wyboru 8 sekretarzy  głosy dziewięciu  tymczasowo związek narodowo ludowy zrezygnował z dziewiątego . i tu wybór może się odbyć przez aklamację , ponieważ przyszedł kompromis do skutku . pozwolę sobie przeczytać panom listę kandydatów : jan bryl , jan dębski , antoni harasz . józef putek , kazimierz pużak , stefan sołtyk . wincenty szymczak , ludwik waszkiewicz . zapytuję panów , czy ktokolwiek protestuje przeciw wyborom przez aklamację ?  głos : miało być sekretarzy 9 , nie 8  miało być rzeczywiście 9 . ale stronnictwo , które ma prawo przedstawienia dziewiątego sekretarza , chwilowo zrezygnowało z tego prawa , a zatem nikt nie jest poszkodowany , skoro stronnictwo samo nie protestuje . jest wniosek formalny wybrania tych kandydatów przez aklamację . pytam , czy kto z panów jest przeciw ny wyborowi tych kandydatów ? nie słyszę żadnego protestu , zatem uważam tych posłów za wybranych na sekretarzy .  oklaski  . teraz zapytuję posła jana bryla czy wybór przyjmuje ? przyjmuję . zapytuję posła jana dębskiego , czy wybór przyjmuje ? pos . dębski nieobecny . zapytuję posła antoniego harasza , czy wybór przyjmuje ? przyjmuję . posła józefa putka , czy wybór przyjmuje ? przyjmuję . zapytuję posła kazimierza pużaka , czy wybór przyjmuje ? przyjmuję . zapytuję posła stefana sołtyka , czy wybór przyjmuje ? przyjmuję . zapytuję posła wincente szymczaka , czy wybór przyjmuje ? przyjmuję . zapytuję posła ludwi waszkiewicza , czy wybór przyjmuje przyjmuję . a zatem ten punkt porządku dziennego jest załatwiony . p . dębski będzie zapytany przez biuro sejmowe . następuje 5  ty punkt porządku dziennego , mianowicie wybory komisji . konwent seniorów proponuje , aby wybrać pięć następujących komisji , każda po 30 członków : komisję dla spraw zagranicznych , komisję wojskową , komisję rolną , komisję ochrony pracy i komisję konstytucyjną . obsadzenie tych komisji odbędzie się według klucza odpowiadającego sile liczebnej grup , które potem tylko biuru sejmowemu doniosą , kogo do komisji delegują jest wniosek formalny wybrania tych komisji przez aklamację . zatem zapytuję , czy kto z panów jest przeciwny wyborowi komisji dla spraw zagranicznych ? stwierdzam , że nikt . czy jest kto przeciwny wyborowi komisji wojskowej ? nikt . komisji rolnej ? nikt . komisji ochrony pracy ? nikt . komisji konstytucyjnej ? nikt . a zatem wybór tych komisji jest postanowiony . w ten sposób porządek dzienny dzisiejszego posiedzenia jest wyczerpany , ale wpłynęły dwa wnioski nagłe . p . sekretarz będzie łaskaw odczytać je .  czyta :  wniosek posła daszyńskiego i towarz . w sprawie ustawowego uregulowania przez sejm przedstawicielstwa ziem , zamieszkałych przez polaków na kresach zachodnich i wschodnich . sejm wzywa rząd , 1  aby bezzwłocznie po ustaniu przeszkód , wywołanych operacjami wojennemi w dawnym zaborze pruskim , przystąpił do przeprowadzenia tamże wyborów posłów sejmowych  2  aby bezzwłocznie przedłożył sejmowi projekt ustawy wyborczej , mocą której wschodnie ziemie polskie , nieobjęte dotychczasową ustawą wyborczą , mają wybrać posłów na sejm . uzasadnienie . ad 1  już w ordynacji wyborczej do sejmu ustawodawczego ustanowione zostały okręgi wyborcze w zaborze pruskim i termin wyborów na dzień 26 stycznia 1919 roku rozpisany . wybory te jednak w zaborze pruskim przeprowadzone nie zostały . obecnie rząd , pragnąc zapewnić zaborowi pruskiemu przedstawicielstwo na sejmie , wydał dekret , dopuszczający dotychczasowych posłów do parlamentu rzeszy niemieckiej w liczbie 16 do udziału w sejmie . przedstawicielstwo to nie może jednak wystarczyć . zabór pruski powinien znaleźć przedstawicielstwo , odpowiadające swemu znaczeniu i liczbie . wymaga tego także zasada zjednoczenia ziem polskich , która będzie tak długo frazesem , jak długo wybrani posłowie zaboru pruskiego z woli judu nie zajmą miejsca w polskim sejmie ustawodawczym . ad 2  ludność terenów wschodnich dąży do zjednoczenia się z państwem polskiem , a zjednoczenie to nastąpić może tylko przez wybór do sejmu posłów z ziem polskich , na wschodzie położonych . warszawa , dn . 14 lutego 1919 r . wnioskodawca . daszyński dr . liebermann , z . misiołek , żuławski , t arcyszewski , zygmunt dreszer , a . szczerkowski , w . gęborek , t . dymowski , dobrowolski . m . kułakowski , n . barlicki , a . napiórkowski , hausner , julian smulikowski , dr . z . marek , dr . e . bobrowski , fr . loefler , m . malinowski , k . pużak , franciszek rajdych , st . łańcucki , jan durczak , j . mota  czewski , zofia moraczewska , m . niedziałkowski , ziemięcki , ant . chudy . wniosek p . bobrowskiego emila i tow . w sprawie powołania siedmiu posłów śląska cieszyńskiego do sejmu . prastara ziemia piastowska , śląskiem cieszyńskim zwana , do dziś dnia zawsze miała i ma ludność przeważnie polską . dwa tylko z biegiem czasu wytworzyły się wyjątki . po pierwsze podczas długich stuleci niemieckiego panowania po miastach śląskich osiedliło się nieco mieszczaństwa niemieckiego , a nieco polskiego mieszczaństwa się zniemczyło . po drugie zaś ową górską dolinę , która stanowiąc południowo  zachodnią krawędź śląska cieszyńskiego , bezpośrednio z morawami graniczy , a którą dłużej od sąsiednich okolic pokrywała puszcza , jakie pół tysiąca lat temu zaludnili osadnicy z moraw , których potomkowie dziś za czechów się poczytują  dolinę tę obecnie nazywamy powiatem sądowym frydeckim . naogół na śląsku cieszyńskim przeszło dwie trzecie mieszkańców , a jeśli potrącimy powiat sądowy frydecki , to przeszło trzy czwarte mieszkańców stanowią polacy . z 435,000 ludzi , którzy na śląsku cieszyńskim mieszkają , jest napewno 300,000 polaków  niemców będzie tylko około 65,000 , a czechów w samej rzeczy nie więcej niż 70,000 , a ci nieliczni czesi mieszkają głównie w powiecie sądowym frydeckim . w dniu 5 listopada 1918 r . zawarta została przez polską radę narodową dla księstwa cieszyńskiego z   narodnim ujborem  czeskim tymczasowa umowa polsko  czeska , rozgraniczająca stan posiadania obu narodów na czas przejściowy , aż do ostatecznego rozstrzygnięcia sprawy przez światową konferencję pokojową . umowę tę zatwierdziła najwyższa w owej chwili istniejąca władza czeska , mianowicie główny   narodni ujbor  w pradze . umowa ta dała czechom o wiele więcej , niż się im należało . pod czeski zarząd przeszedł nie tylko powiat sądowy frydecki , ale także obfitujący w bogate kopalnie najlepszego węgla powiat sądowy polsko  ostrawski , gęsto zaludniony przez górników i robotników fabrycznych , pośród których , wbrew kłamliwym cyfrom urzędowym , sporą większość stanowią polacy . innemi słowy przyznano czechom tymczasowo cały powiat polityczny frydecki , składający się z dwóch powiatów sądowych : frydeckiego na południu , a polsko  ostrawskiego na północy . dalej na północ zaś w powiecie politycznym frysztackim  składającym się również z dwóch powiatów sądowych : frysztackiego i bogumińskiego , przyznano czechom sześć gmin : pietwald , łazy , suchę średnią , suchę dolną , orłowę , oraz odosobnione od tych pięciu , otoczone czysto polskiemi osadami dziećmorowice . a jednak widzieli śmy , że te sześć gmin mają ludność przeważnie polską : sucha dolna jest prawie czysto polską , sucha średnia nawet według urzędowych cyfr ma polską większość , w łazach jest faktycznie dwa razy tyle polaków co czechów , a nawet i w orłowej  ludnej osadzie , liczącej około 8400 dusz , gdzie od szeregu lat istnieje polskie gimnazjum realne  , tudzież w pietwaldzie i dziećmorowicach uczciwie przeprowadzony spis ludności wykazał by większość polską . ale robiąc czechom te chwilowe ustępstwa nie miano zamiaru wyrzec się na stałe choć jednej gminy polskiej . przeciwnie , w akcie umowy zaznaczono najwyraźniej , że umowa ta , służąca wyłącznie potrzebom chwili , w niczym nie przesądza przyszłego rozgraniczenia państwa polskiego od czeskiego . chodziło zaś na razie o to , żeby głodnej ludności najbardziej ułatwić szybkie zaopatrzenie się w żywność . w tym celu chciano istniejące zarządy gminne pozostawić nienaruszone . otóż dotąd istniejące gminne prawo wyborcze było złe , krzywdzące  wzorowane na osławionem pruskiem prawie wyborczem trójklasowem , daje ono sztuczną przewagę najbogatszych z pośród gminiaków . a najbogatsi tak w gminach powiatu sądowego polsko  ostrawskiego , jak i w powyżej wyliczonych sześciu gminach są czesi , bo do nich należą urzędnicy i inżynierowie o wiele lepiej płatni od robotników . dlatego w tych gminach zarządy gminne były czeskie i dlatego przyznano je chwilowo czechom , zastrzegając sobie wyraźnie prawo polaków do tych gmin na przyszłość . tak więc czesi chwilowo opanowali jedną czwartą część przestrzeni śląska cieszyńskiego , a jedną trzecią część jego ludności . rząd polski rozpisał wybory powszechne do sejmu i w dzielnicy śląskiej , w ten sposób czynem stwierdzając nierozerwalną jej łączność ze wspólną wszystkich polaków macierzą , zjednoczoną niepodległą republiką polską . kraina cieszyńska , według ordynacji wyborczej stanowi jeden okrąg o siedmiu mandatach . wychodząc z założenia , że wobec groźnego niebezpieczeństwa czeskiego wewnętrzne spory partyjne powinny milczeć , wszystkie polskie stronnictwa na śląsku cieszyńskim porozumiały się i wystawiły wspólną listę sześciu kandydatów , na którą wszyscy polacy bez różnicy partii głosować mieli . siódmy mandat postanowiono oddać niemcom . była więc tylko jedna jedyna wszechpartyjna lista polska , a obok niej jeszcze dwie różne listy dwóch kłócących się między sobą grup niemieckich . ale ten spór między niemcami nie miał większego znaczenia , bo niemcom tak czy owak nie starczyło by głosów na zdobycie więcej niż jednego krzesła . czesi od chwili rozpisania wyborów jawnie grozili , że do wyborów nie dopuszczą . na 26 stycznia rozpisane były wybory . a tymczasem 23 stycznia czesi zdradziecką napaścią zajęli dworzec kolei w boguminie . i odtąd wdzierali się zbrojną przemocą do krainy , którą obiecali spokojnie pozostawić pod polskim zarządem . w obliczu tych gwałtów rząd księstwa cieszyńskiego nie chcąc narażać bezbronnych tłumów wyborców i wyborczyń na rzeź , odwołał wybory . w owych nielicznych gminach jednak , dokąd rozkaz odwołania wyborów nie dotarł w porę , lud jednomyślnie głosował na polską listę . wobec tego jawnem jest , że tylko bezprawie czeskie przeszkodziło ludności śląska cieszyńskiego w oświadczeniu się olbrzymią większością za przynależnością do polski , oraz w dokładnem stwierdzeniu nicości wpływów czechów na obszarze dotychczas objętym władzą polskiej rady narodowej . oprócz sześciu okręgów , w których wybory zostały rozpisane , należy również uwzględnić ósmy mandat ze śląska cieszyńskiego , reprezentujący powiat sądowy polsko ostrawski oraz sześć gmin powiatu politycznego frysztackiego , będące od 5 listopada 1918 r . pod okupacją czeską , a mianowicie : orłowę , łazy , pietwałd , suchę średnią i suchę dolną ponieważ w powiecie sądowym polsko  ostrawrskim oraz w sześciu gminach , powyżej wyliczonych , zarządy gminne były w rękach czechów więc , zgodzono się na to , by te czeskie zarządy gminne poddać na razie tej władzy zwierzchniej , z którą najłatwiej i  nieczytelne  współpracować mogły , mianowicie władzy zwierzchniej czeskiej . w istocie rzeczy większość mieszkańców tych gmin nie jest bynajmniej czeską . albowiem dotychczasowe gminne prawo wyborcze na śląsku cieszyńskiem nie było bynajmniej demokratyczne , lecz wzorowane na pruskim systemie trójklasowym . zamożna mniejszość czeska opanowała gminy . musiano z polskiej strony z tym faktem się liczyć . czyniąc to , zastrzeżono się wyraźnie , że umowa ta w niczem nie przesądza kwestii przynależności tych okolic do państwa polskiego czy czeskiego . razem w owych 6 gminach powiatu frydeckiego mieszka prawdopodobnie około 18 tysięcy polaków obok 12 tysięcy czechów i 2 tysięcy niemców . co zaś do sądowego powiatu polsko  ostrawskiego , to mieszka tu prawdopodobnie około 30 tysięcy polaków . razem więc ludność okolic , o których mowa należy ocenić na 48 tysięcy polaków , obok 31 tysięcy czechów i 8 tysięcy niemców . z powodów znanych i zrozumiałych rząd polski nie rozpisał wyborów w tych okolicach , odbył się jednak tam szereg zebrań poufnych i wszystkie stronnictwa polskie pod okupacją czeską zgodnie postanowiły ofiarować mandat dorocie kłuszyńskiej z bogumina . uchwałę tę zatwierdziła polska rada narodowa dla księstwa cieszyńskiego , która ani na chwilę nie wyrzekła się polskich gmin , chwilowo tylko w rękach czechów pozostawionych . mandatu tego nie należy uważać za mandat kresowy , tylko za mandat z polskiej ziemi rdzennej , gdyż jest to mandat od zwartej większości polskiej , pomiędzy którą mieszkają rozproszeni czesi i niemcy . na tej podstawie wnoszą podpisani : wysoki sejm raczy uchwalić : kandydatów na posłów okręgu cieszyńskiego z listy nr . 1 zgłoszonych w terminie ustawowym do komisji wyborczej , która to lista zawiera nazwiska następujące : tadeusz reger w cieszynie , ks . j . londzin w cieszynie , dr . ryszard kunicki w frysztadzie , karol junga , rolnik w żukowie , paweł bobek w cieszynie , jerzy kantor w cieszynie oraz dora kłuszyńska w cieszynie do mandatu reprezentującego powiat sądowy ostrawski oraz 6 gmin : orłowrę , łazy , pietwałd , suchę dolną i suchę średnią , powołuje się jako posłów do sejmu ustawodawczego . wnioskodawca : bobrowski , malinowski , hausnor , barlicki , daszyński , marek , arcyszewski , pużak , perl , ziemięcki , niedziałkowski , dreszer , durczak , diamand , czapiński , moraczewski , moraczewska , rejdych . cześć braciom szlązakom ! cześć ! do podobnej materii należy wniosek poznański , który p . sekretarz będzie łaskaw odczytać .  czyta  : wniosek posła wojciecha korfantego i tow . wysoki sejm raczy uchwalić : 1  ponieważ w b . dzielnicy pruskiej wybory do sejmu polskiego odbyć się nie mogły , wchodzą do sejmu , jako przedstawiciele tejże dzielnicy oprócz posłów do parlamentu , członkowie naczelnej rady ludowej i komisariatu w liczbie 71 wybrani przez sejm dzielnicowy w poznaniu dnia 5 grudnia 1918 r . powstały z powszechnych wyborów . mandaty członków naczelnej rady ludowej ważne są tylko do czasu zjednoczenia byłej dzielnicy pruskiej z rzeczpospolitą polską . wybory uzupełniające w byłej dzielnicy pruskiej muszą się odbyć w przeciągu czterech tygodni po przyłączeniu tejże dzielnicy do rzeczpospolitej polskiej . 2  jako posłowie ze ślązka cieszyńskiego wchodzą do sejmu kandydaci z listy nr . 1 zgłoszeni w terminie ustawowym do komisji wyborczej pod przewodnictwem komisarza wyborczego pana radeckiego , która to lista zawiera następujące nazwiska : paweł bobek w cieszynie , jerzy kantor w cieszynie , dr . ryszard kunicki w cieszynie , karol junga w żukowie , ks . józef londzin w cieszynie i tadeusz reger w cieszynie . wnioskodawca : w . korfanty . starowiejski , skarbek . w . jabłonowski , baworowski , s . chaniewski , t . jakubowski , g . balicka , ks . a . stychel , b . dembiński , s . grabski , teodorowicz , tarnawski , j . godek , tabaczyński , z . sejda , dębski , rottermund , r . srótka , l . skulski , w . sejda , m . w . rudnicki , m . bojanowski , ks . sobolewski , ks . k . lutosławski . dodatkowo nadszedł jeszcze w podobnej materii wniosek podpisany przez p . ks . lutosławskiego i tow . proszę pana sekretarza odczytać ten wniosek .  czyta  : wniosek p . ks . lutosławskiego i tow . wysoki sejm raczy uchwalić : sejm rzeczypospolitej poleca komisji konstytucyjnej opracować i przedstawić izbie do uchwalenia projekt ustawy o uzupełnienie składu osobistego sejmu ustawodawczego przedstawicielami ludności polskiej kresów wschodnich . wnioskodawca : ks . kazimierz lutosławski . k . kowalewski , t . jakubowski , j . żałuski , d . tutaj , w . równicki , l . skulski , f . mazur . b . malewski . f . buczny , a . piotrowski . w . grabski , bochenek , żebrowski . s . gumowski , r . srótka , m . janeczek . b . krzywkowski , j . biliński , s . g . brun . a . mieczkowski . ks . j . kłos , ks . m . nowakowski . j . kotas , a . ramotowski . jest wniosek , żeby te trzy wnioski odesłać do komisji konstytucyjnej , która musi się zebrać w najbliższym czasie , jeszcze na początku przyszłego tygodnia . o głos w kwestii formalnej prosił p . pryłucki . zapytuję go czy chciał mówić o tej sprawie czy innej ? o innej . więc załatwimy najprzód sprawę tych trzech wniosków . czy w kwestii formalnej żąda kto głosu ? proszę o głos . głos ma p . grzędzielski . proponuję , żeby te trzy wnioski odesłać do komisji konstytucyjnej , polecając jej przedłożyć izbic sprawozdanie do 3 dni . proszę o głos . proszę o głos . poseł daszyński ma głos . jedną kresów zachodnich t . j . b . zaboru pruskiego i śląska cieszyńskiego , i drugą  kresów wschodnich . co do pierwszej zgodzono się , że komisja ma ukończyć pracę w ciągu trzech dni , nie znaczy to jednak , żeby mogła przedłożyć sejmowi sprawozdanie . kol . grzędzielski , jako nie nowicjusz wie , że w myśl regulaminu , który był dziś odczytany , sprawozdanie musi być pisemne , i wie , że na dzień przedtem musi być rozdane posłom , że musi się odbyć drugie czytanie , a w dzień później dopiero może się odbyć czytanie trzecie , że więc o terminie przedłożenia izbie wniosku dzisiaj decydować nie możemy . konwent seniorów omówił każdy termin , dotyczący pochodu tej sprawy . raczej więc obstaję przy ogólnikowej dyrektywie , żeby pan marszałek był łaskaw czuwać nad dotrzymaniem uchwały konwentu seniorów w tej sprawie . poseł korfanty ma głos . zrzekam się głosu . czy panowie zgadzają się na wniosek przekazania tych wniosków komisji , z poprawką pana posła daszyńskiego ? niema protestu , a zatem wniosek przyjęty . poza porządkiem dziennym ma głos w kwestii formalnej poseł pryłucki . proszę panów , pan marszałek zakomunikował nam , że komisje , których wybór sejm dzisiaj uchwalił , będą powołane do życia na zasadzie klucza partyjnego  mianowicie każde reprezentowane w izbie stronnictwo wydeleguje swego przedstawiciela , względnie swoich przedstawicieli do każdej z uchwalonych dzisiaj komisji . otóż chciał by m wiedzieć , kto ten klucz ustalił ? słyszał em , że klucz ten uchwalić ma konwent seniorów . mam zaszczyt reprezentować w tej wysokiej instytucji pewne stronnictwo odrębne , które swego przedstawiciela w konwencie seniorów nie posiada . nie może więc uchwała konwentu seniorów w składzie niekompletnym obowiązywać tych stronnictw , które w konwencie reprezentowane nie są . stronnictwo moje posiada w sejmie zaledwie 2 posłów , ale nie dlatego , żeby było nieliczne , bo w granicach królestwa kongresowego zebrało blisko 150 tysięcy głosów i miało by prawo mieć tutaj w sejmie do 10 posłów , tylko , że jak już zaznaczył jeden z przedmówców na początku dzisiejszego posiedzenia , podział na okręgi wyborcze był tego rodzaju , iż uniemożliwił nam przeprowadzenie większej ilości mandatów . wobec tego . . .  p . korfanty : to nie jest kwestia formalna  owszem to jest kwestia formalna , bo zwracam uwagę na to , że uchwała konwentu seniorów o kluczu partyjnym , nie uchwalona przez plenum sejmu , sejmu nie obowiązuje  ja przynajmniej w imieniu tej nielicznej frakcji , którą tutaj reprezentuję , oświadczam , i mam prawo to uczynić , że nie uznaję za obowiązującą tej decyzji dla swego stronnictwa , i uważam , że komisje , które powołane będą do życia przez wydelegowano posłów tylko ze stronnictw , reprezentowanych w konwencie seniorów , nie będą komisjami , jakieby właściwie sejm uchwalił , bo nie będzie tu właściwie wyborów . otóż zaznaczam z tej trybuny , że jeśli sejm w tej mierze uchwał nie poweźmie , to jako przedstawiciel odrębnego aczkolwiek nielicznego klubu będę miał prawo wydelegować przedstawicieli do każdej z uchwalonych komisji , gdyż uważam , że i w tej dziedzinie powinno istnieć pewne prawo samookreśłenia i że każda grupa posłów może oświadczyć , że stanowi odrębną organizację , odrębny klub , czy odrębne stronnictwo , i że wobec tego konwent seniorów , w którym nie jest reprezentowana , nie może jej pozbawiać prawa delegowania przedstawicieli do wszystkich komisji . wobec wywodów pana posła pryłuckiego muszę zwrócić uwagę na art . 49 dopiero co przyjętego regulaminu , według którego :   celem przygotowania obrad sejmowych ustanawia sejm komisje : stałe dla pewnych rodzajów spraw na czas sesji sejmowych i specjalne dla spraw poszczególnych . komisje mają się składać z 30 albo 15 posłów , wybieranych według klucza , odpowiadającego sile liczebnej grup poselskich  . proszę panów   we wszystkich parlamentach jest zwyczaj , że tylko grupy , liczące więcej niż 12  15 członków mają prawo do samodzielnego zastępstwa w komisji , a także jest zwyczaj , który grupie p . pryłuckiego daje prawo przypisania się do innej grupy i wymówienia sobie , że na mocy przystąpienia do niej ma prawo do zastępstwa w komisji . zdaje mi się więc , że żadnej niesprawiedliwości tu nie było ,  ponieważ takie same są regulaminy wszystkich innych parlamentów . teraz zwrócę uwagę panów na art . 9 regulaminu , w którym przepisano :  natychmiast po wyborze prezydjum marszałek zawiadomi naczelnika państwa i prezydenta ministrów o ukonstytuowaniu się sejmu . postąpię więc w myśl tego artykułu . ponieważ słyszał em tu głosy , ażeby komisja , której przekazano wnioski o przypuszczenie kresowców w charakterze posłów , szybko pracowała , upraszam tych panów , którzy będą należeli do komisji konstytucyjnej , jutro o godz . 4 pp . przybyć do gmachu sejmowego do pokoju , przeznaczonego dla konwentu seniorów , w celu ukonstytuowania się i przynajmniej postanowienia planu pracy . pan marszałek senior przedłożył wniosek posła z okręgu tarnopolskiego z galicji , rudolfa galla , do niego skierowany , w którym p . gall prosi o urlop na 8 tygodni . według regulaminu marszałek może udzielać urlopu tylko do 2 tygodni . dłuższych urlopów udziela tylko sejm . jest wniosek , by p . gallowi udzielić tego urlopu . jeżeli nikt nie zaprotestuje , będę uważał , że sejm zgadza się na udzielenie p . gallowi urlopu 8  io tygodniowego . nikt . zatem wniosek jest przyjęty . wybór komisji odbędzie się poza plenum w ten sposób , że każda grupa doniesie , kogo deleguje do komisji , i ci delegaci automatycznie staną się członkami komisji . proponuję panom na mocy wniosku konwentu seniorów , ażeby następne plenarne posiedzenie odbyło się we czwartek o godzinie 4  ej po południu . tymczasem stawiam na porządku dziennym tylko wybory do dalszych komisji sejmowych oczywiście ten porządek dzienny zostanie uzupełniony , ale proszę panów o zezwolenie , żeby m o rozszerzeniu tego porządku dziennego doniósł dopiero pisemnie . czy panowie zgadzają się ?  zgoda na sali .  posiedzenie zamykam .  koniec posiedzenia o g . 8 m . 15  . sprawozdanie stenograficzne z 3 . posiedzenia sejmu ustawodawczego z dnia 20 . lutego 1919 r .  początek posiedzenia o godzinie 4 minut 44  . ze strony rządu obecni : prezydent ministrów i minister spraw zagranicznych ignacy jan paderewski , minister spraw wewnętrznych stanisław wojciechowski , minister sprawiedliwości leon supiński , minister wyznań religijnych i oświecenia publicznego jan łukasiewicz , minister przymysłu i handlu kazimierz hącia , minister rolnictwa i dóbr państwowych stanisław janicki , minister pracy i opieki społecznej jerzy iwanowski , minister poczt i telegrafów hubert linde , minister kultury i sztuki zenon przesmycki , minister robót publicznych józef próchnik , kierownik ministerstwa komunikacji julian eberhardt , minister skarbu józef englich , minister aprowizacji antoni minkiewicz , minister zdrowia publicznego tomasz janiszewski , kierownik ministerstwa spraw wojskowych pułk . jan wroczyński . podsekretarze stanu : w min . spraw zewnętrznych władysław wróblewski , w min . spr . wewn . józef bekk , w min . sprawiedl . józef światopełk  zawadzki , w min . przem . i handlu henryk strasburger , w min . roln . i dóbr państw . zygmunt chmielewski , w min . pracy i op . społ . aleksander pristor , w min . poczt i telegr . jan urbański , w min . kult . i sztuki jan heurich , w min . skarbu władysław byrka , w min . aprowizacji janusz machnicki . otwieram posiedzenie . protokuł pierwszego posiedzenia uważam za przyjęty , gdyż nie wniesiono przeciwko niemu żadnych zarzutów . protokuł 2  go posiedzenia złożony jest w biurze sejmu do przejrzenia . na sekretarzy powołuję pp . : jana bryla i stefana sołtyka . listę mówców prowadzić będzie p . sołtyk . proszę pana sekretarza o odczytanie urlopów . marszałek udzielił urlopu posłowi ludwikowi wolfowi na 14 dni . prosi o urlop poseł dr henryk kolischer na 5 tygodni do dnia 31 marca 1919 r . według regulaminu marszałek ma prawo udzielić urlopu tylko na dwa tygodnie . kto się zgadza na udzielenie p . kolischerowi urlopu 5tygodniowego , zechce powstać  większość  . urlop udzielony . usprawiedliwili swą nieobecność z powodu choroby pp . : proszę p . sekretarza odczytać interpelacje . p . sekretarz bryl :  czyta  : interpelacja p . józefa putka i tow . do prezydenta ministrów w sprawie niewykonania przez polską komisję likwidacyjną w krakowie uchwały rady ministrów , zarządzającej objęcie w sekwestr majątków habsburgów w granicach państwa polskiego położonych . interpelacja p . jakuba bojki i tow . do prezydenta ministrów w sprawie wypłaty należności przez gal . zakład obrotu bydłem za bydło zakupione od producentów . interpelacja p . dr . ks . lubelskiego i tow . do rządu polskiego w sprawie polaków przebywających w niewoli włoskiej . interpelacja p . józefa walisiaka i tow . do rządu polskiego w sprawie służby folwarcznej . interpelacje te zakomunikuję prezydentowi ministrów . proszę p . sekretarza odczytać wnioski .  czyta  : wniosek nagły pp . : witosa , bryla . dąbskiego , kędziora , rączkowskiego i tow . z klubu p . s , l .  piast  w sprawie odbudowy zniszczonych wojną miast i miasteczek oraz wydania drzewa budulcowego do budowy zniszczonych gospodarstw na rachunek skarbu państwa .  druk nr . 7  . jest wniosek , by temu wnioskowi , przyznać nagłość . rozprawa nad nagłością otwarta . czy żąda kto głosu ? gdy nikt głosu nie żąda , poddaję kwestię nagłości pod głosowanie . proszę tych panów , którzy uważają wniosek p . witosa i tow . za nagły , aby powstali z miejsc .  posłowe powstają  . jest prawie jednomyślność , a zatem wniosek ten umieszczę na porządku dziennym jednego z najbliższych posiedzeń . proszę p . sekretarza odczytać dalsze wnioski .  czyta  : wniosek p . józefa putka i tow . w sprawie objęcia w sekwestr majątków habsburgów w granicach polski położonych .  druk nr . 6  . wniosek p . średniawskiego i tow . w sprawie powołania do wojska 4 roczników w całem państwie .  druk nr . 8  . wniosek p . d  ra bardla i tow . z ramienia posłów p . s . l ,  piastowców  w sprawie przedłożenia sejmowi przez rząd zasad organizacji władz wykonawczych i wykazu funkcjonariuszów poszczególnych ministerstw .  druk nr 9  . wniosek pp . : witosa , dr . bardla , dąbskiego i tow . z ramienia klubu p . s . l .  piastowców  w sprawie naprawy stosunków rolnych w państwie polskim .  druk nr . 10  . jest wniosek formalny , by wszystkie te wnioski odesłać do kompetentnych komisji . rozprawa otwarta . czy żąda kto głosu ? gdy nikt głosu nie żąda , rozprawa zamknięta . kto się zgadza na przesłanie tych wniosków do odnośnych komisji  zechce powstać . odesłanie uchwalone . zanim rozpoczniemy rozprawy rzeczowe nad przedmiotami porządku dziennego , wzywam sejm , aby śmy przez powstanie uczcili pamięć tych setek tysięcy rodaków i  posłowie powstają z miejsc  , którzy polegli w ostatniej wszechświatowej wojnie . oby opatrzność już nigdy nie skazała synów narodu polskiego do walczenia pod cudzemi , a wrogiemi sztandarami i nie zmuszała ich do przelewania krwi za cudzą sprawę . tym bohaterom naszej tragedii narodowej należy się pamięć i cześć po za grobem . i oni zginęli za ojczyznę , nie mniej za cześć należy się mogiłom tych bohaterów , którzy za wolność i niepodległość polski swe młode życie stracili . szczęśliwsi oni , bo opatrznoś pozwoliła im za polskę , a nie za cudzą sprawę życie położyć . obok czci dla zmarłych bohaterów nie zapomnijmy i o żyjących . o głodzie i chłodzie , bez dostatecznej broni i amunicji , garstka wojska polskiego na czterech frontach broni granic rzeczypospolitej przeciw dziesięciokrotnej przemocy . bohaterom tym z pod lwowa i wilna , z cieszyna i kresów wielkopolskich przesyła pierwszy sejm polski przez usta moje wyrazy głębokiej czci i uznania , przesyła zapewnienie  oklaski  , iż wdzięczna ojczyzna o nich nie zapomni  ożywione oklaski  posłowie siadają  . proszę pana sekretarza o zanotowanie w protokule , że śmy uczcili pamięć poległych przez powitanie z miejsc . mam panom do zakomunikowania następującą sprawę . sędziwy pan feliks grabowski doniósł mi , że po macierzystym dziadku jego , józefie lubowidzkim , marszałku izby poselskiej w maju 1830 r . , znajduje się u niego laska marszałkowska . dzierżyli ją czterej marszałkowie doby przedlistopadowej . pan grabowski oświadczył , że uważa się tylko za depozytariusza i pragnie co prędzej zwrócić ją prawemu właścicielowi , tj . rzeczypospolitej polskiej  oklaski  . wręczenie tej laski odbyło się wczoraj w obecności prezydjum . myślę , że postąpił em w myśl życzeń całego sejmu , gdy czcigodnemu panu grabowskiemu serdecznie podziękował em za wierne przechowanie pamiątki narodowej i gdy go zapewnił em , że laska ta będzie w sejmie symbolem , aby śmy wynieśli z historii naukę naśladowania cnót przodków , a unikania ich błędów .  oklaski  . proszę p . sekretarza odczytać wnioski złożone w dalszym ciągu do laski marszałkowskiej .  czyta  : wniosek p . misiołka i tow . w sprawie uruchomienia przemysłu w kraju celem zapobieżenia bezrobociu .  druk nr . 11  . wniosek p . smulikowskiego i tow . w sprawie przejęcia szkolnictwa w dawnym zaborze austriackim na etat państwa polskiego .  druk nr . 12  . wniosek p . daszyńskiego i tow . w sprawie zniesienia stanu wyjątkowego i sądów doraźnych w całem państwie .  druk nr . 13  . wniosek p . loeflera w sprawie powszechnej amnestii dla więźniów politycznych .  druk nr . 14  . wniosek p . chudego i tow . w sprawie urządzenia w dawniejszych miastach garnizonowych ze zbędnych dziś budynków wojskowych  koszar  , domów mieszkalnych dla uboższej ludności .  druk nr . 16  . wniosek p . d  ra liebermanna i tow . w sprawie zaopatrzenia inwalidów wojennych , wdów i sierot po żołnierzach poległych , tudzież w sprawie wypłaty zasiłków dla rodzin żołnierzy , którzy jeszcze z niewoli nie wrócili .  druk nr . 15  . marszalek : jest wniosek formalny , by wszystkie te wnioski odesłać do kompetentnych komisji . rozprawa otwarta . czy żąda kto głosu ? gdy nikt głosu nie żąda , rozprawa zamknięta . kto się zgadza na odesłanie tych wniosków do odnośnych komisji  zechce powstać . odesłanie uchwalone . przystępujemy do 1 punktu porządku dziennego tj . do deklaracji naczelnika państwa . poprosił em naczelnika państwa , aby zaszczycił sejm swoją obecnością . naczelnik państwa józef piłsudski :  wchodzi na sali , witany burzliwymi oklaskami ti zająwszy miejsce na trybunie , czyta  : wysoki sejmie ! z chwilą , gdy losy w ręce moje oddały ster odradzającego się państwa polskiego , postawił em sobie jako zasadniczy podstawowy cel moich rządów zwołanie sejmu ustawodawczego do warszawy . w wielkim chaosie i rozprzężeniu , które ogarnęło po wojnie całą środkową i wschodnią europę , chciał em właśnie z polski uczynić ośrodek kultury , w którym rządzi i obowiązuje prawo . wśród olbrzymiej zawieruchy , w której miliony ludzi rozstrzyga sprawy jedynie gwałtom i przemocą , dążył em , by właśnie w naszej ojczyźnie konieczni i nieuniknione tarcia społeczne były rozstrzygane w sposób jedynie demokratyczny : za pomocą praw , stanowionych przez wybrańców narodu . starał em się osiągnąć swój cel jak najśpieszniej . chciał em bowiem , by kładąc trwałe fundamenty pod swe odrodzenie , polska wyprzedziła sąsiadów i w ten sposób stała się siłą przyciągającą , dającą zapewnienie choćby nie najszybszego , lecz spokojnego i prawnego rozwoju . główne to zadanie mych rządów nie łatwem było do rozwiązania . niełatwo jest bowiem utrzymać spokój wśród szalejącej burzy , wśród ogólnej niepewności i chwiejności instytucji i urządzeń ludzkich . niełatwem było utrzymać równowagę , rządząc bez dostatecznych środków materialnych i technicznych , rządząc podczas wojny , która rozgorzała na wszystkich naszych granicach . to też uważam za swój przyjemny obowiązek podnieść tu z wdzięcznością pracę tych , którzy mi ciężkie zadanie ułatwili i dopomogli mi szczęśliwie je rozwiązać . składam podziękowanie wszystkim mym najbliższym pomocnikom cywilnym i wojskowym , przedewszystkiem zaś obu prezydentom rady ministrów : pp . moraczewskiemu i paderewskiemu . zgodnie ze swym zasadniczym celem i głębokiem przekonaniem , że w polsce ksks  go wieku , źródłem praw może być jedynie sejm , wybrany na podstawach demokratycznych ,  obu rządom , które do życia powołał em , stawiał em jako główny warunek , by uznawały siebie za rząd jedynie tymczasowy , a pracę swą za załatwienie tylko konieczności państwowych i nie regulowały zasadniczych spraw życia politycznego i społecznego za pomocą dekretów , nie uświęconych uchwałą wybrańców narodu . również zgodnie z tym celem całe wojsko polskie , któremu mam zaszczyt przewodzić , złożyło jednobrzmiące uroczyste ślubowanie , że się podda wszystkim prawom wynikającym z uchwał i postanowień sejmu , a osobiście razem z całym garnizonem warszawskim złożył em to ślubowanie dnia 13 grudnia ubiegłego roku . pomimo wszystkich przeszkód udało mi się zasadniczy cel mych rządów osiągnąć i zebrać w warszawie pierwszy sejm polski w warunkach spokojnych , nie przeszkadzających jego pracom . uważam , że po jego ukonstytuowaniu się rola moja jest skończona . jestem szczęśliwy , że posłuszny swej żołnierskiej przysiędze i swemu przekonaniu postawić mogą do dyspozycji sejmowi swą władzę , którą dotąd w narodzie piastował em . oświadczam niniejszym , że składam swój urząd naczelnika państwa w ręce pana marszalka sejmu .  naczelnik państwa opuszcza salę  . zawiadamiam panów , że w tej sprawie wpłynął nagły wniosek posłów korfantego , witosa , daszyńskiego , stolarskiego , ostachowskiego , fichny , chaniewskiogo i stu kilkudziesięciu towarzyszy ze wszystkich stronnictw . wniosek ten opiewa : wniosek nagły posłów : korfantego , witosa , daszyńskiego , stolarskiego , ostachowskiego , fichny , chaniewskiego i tow . wysoki sejm raczy uchwalić : i . sejm przyjmuje oświadczenie józefa piłsudskiego , że składa w ręce sejmu urząd naczelnika państwa do wiadomości i wyraża mu podziękowanie za pełne trudów sprawowanie urzędu w służbie dla ojczyzny . ii . aż do ustawowego uchwalenia tej treści konstytucji , która określi zasadniczo przepisy o organizacji naczelnych władz w państwie polskiem , sejm powierza dalsze sprawowanie urzędu naczelnika państwa józefowi piłsudskiemu na następujących zasadach : 1  władzą suwerenną i ustawodawczą w państwie polskim jest sejm ustawodawczy  ustawy ogłasza marszałek z kontrasygnacją prezydenta ministrów i odnośnego ministra fachowego . 2  naczelnik państwa jest przedstawicielem państwa i najwyższym wykonawcą uchwał sejmu w sprawach cywilnych i wojskowych . 3  naczelnik państwa powołuje rząd w pełnym składzie na podstawie porozumienia z sejmem . 4  naczelnik państwa oraz rząd są odpowiedzialni przed sejmem za sprawowanie swego urzędu . 5  każdy akt państwowy naczelnika państwa wymaga podpisu odnośnego ministra . wobec ważności tej sprawy otwieram rozprawę nad nagłością wniosku natychmiast . czy żąda kto głosu ? gdy nikt głosu nie żąda , przystępujemy do głosowania . kto jest za nagłością tego wniosku ?  posłowie powstają  . stwierdzam , że nagłość przyjęto jednomyślnie . otwieram rozprawę nad samym wnioskiem . jest wniosek powyższy przyjąć przez aklamację . proszę , żeby ci panowie , którzy są za wnioskiem p . korfantego i tow . powstali z miejsc  wszyscy  proszę o próbę przeciwną .  ponieważ niema protestu , stwierdzam , że wniosek został jednomyślnie przyjęty .  burzliwe oklaski  proszę p . sekretarza sołtyka , zawiadomić komendanta piłsudskiego , który zna treść wniosku , że wniosek został jednomyślnie przyjęty , i zaprosić go , ażeby znowu do sejmu przybył . szanowni panowie ! zanim komendant piłsudski stanie przed wami , chciał by m kilka słów przemówić . w tej wielkiej przełomowej chwili wyrywa się z piersi każdego z nas okrzyk radości . sejm nasz swoją jednomyślnością , dzisiaj okazał światu , że naród nasz dorósł do rządzenia samym sobą .  idzie chodzi o dobro ojczyzny , tam nikną wszelkie przeciwieństwa osobiste i partyjne .  ożywione oklaski i brawa  oby dzisiejsze głosowanie było wielkim zadatkiem na przyszłość , oby wobec konieczności państwowej sejm zawsze działał pod hasłem dawnych rzymian ,   dobro rzeczypospolitej najwyższem prawem   ożywione oklaski brawa  .  naczelnik państwa józef piłsudski wchodzi powtórnie na sa  ę . na lewiccy okrzyki : niech żyje piłsudski ! lewica rzuca kwiaty . komendancie józefie piłsudski ! sejm ustawodawczy jednomyślnie postanowił dzisiaj władzę naczelnika państwa oddać znowu w twoje ręce . w myśl tej uchwały władzę , naczelna państwa , którą był eś złożył w ręce moje , znowu tobie powierzam z życzeniem , ażeby ś ja sprawował na pożytek narodu i na chwałę ojczyźnie .  ożywione oklaski i brawa  . głęboko wzruszony dziękuję panom za ten zaszczyt i za tę uchwałę , którą panowie powierzacie mi znowu władzę , przed chwilą w ręce wasze złożoną . uważam to sobie . panowie , za wielką nagrodę , za ciężką , nieraz bardzo ciężką pracę całego mego życia . nie mogę jednak ukryć , panowie , że postanowienie wasze stanęło w sprzeczności z mojemi najserdeczniejszemi planami i zamiarami . uważam , że ja z moją naturą czynną , z moim , przyznam się otwarcie do wady , uporem litewskim , z moją względnie małą ustępliwością w zawiłych , trudnych , a specjalnie drażliwych sprawach politycznych , mało się nadaję do spełnienia urzędu , który ma charakter przedewszystkiem polityczny . z chwilą więc , gdy udało mi się spełnić główne moje zadanie jako naczelnika rządu : zwołać sejm  miał em zamiar wszystkie sw'"
          },
          "metadata": {}
        }
      ],
      "execution_count": 25,
      "metadata": {
        "collapsed": true,
        "jupyter": {
          "source_hidden": false,
          "outputs_hidden": false
        },
        "nteract": {
          "transient": {
            "deleting": false
          }
        },
        "gather": {
          "logged": 1611625207185
        }
      }
    },
    {
      "cell_type": "code",
      "source": [
        "from tensorflow.keras.layers.experimental.preprocessing import TextVectorization\r\n",
        "\r\n",
        "vectorizer = TextVectorization(standardize=None)\r\n",
        "text_ds = tf.data.Dataset.from_tensor_slices(texts[0].split()).batch(128)\r\n",
        "vectorizer.adapt(text_ds)"
      ],
      "outputs": [],
      "execution_count": 58,
      "metadata": {
        "collapsed": true,
        "jupyter": {
          "source_hidden": false,
          "outputs_hidden": false
        },
        "nteract": {
          "transient": {
            "deleting": false
          }
        },
        "gather": {
          "logged": 1611626079339
        }
      }
    },
    {
      "cell_type": "code",
      "source": [
        "len(vectorizer.get_vocabulary())"
      ],
      "outputs": [
        {
          "output_type": "execute_result",
          "execution_count": 66,
          "data": {
            "text/plain": "6707"
          },
          "metadata": {}
        }
      ],
      "execution_count": 66,
      "metadata": {
        "collapsed": true,
        "jupyter": {
          "source_hidden": false,
          "outputs_hidden": false
        },
        "nteract": {
          "transient": {
            "deleting": false
          }
        },
        "gather": {
          "logged": 1611626150472
        }
      }
    },
    {
      "cell_type": "code",
      "source": [
        "from gensim import models\r\n",
        "path = os.path.join(dataset_mount_word2vec, 'nkjp+wiki-forms-all-100-cbow-hs.txt')\r\n",
        "\r\n",
        "word2vec_model = models.KeyedVectors.load_word2vec_format(path)\r\n",
        "\r\n",
        "embedding_matrix = word2vec_model.vectors\r\n",
        "print('Shape of embedding matrix: ', embedding_matrix.shape)"
      ],
      "outputs": [],
      "execution_count": 51,
      "metadata": {
        "collapsed": true,
        "jupyter": {
          "source_hidden": false,
          "outputs_hidden": false
        },
        "nteract": {
          "transient": {
            "deleting": false
          }
        },
        "gather": {
          "logged": 1611612526622
        }
      }
    },
    {
      "cell_type": "code",
      "source": [
        "word2vec_model[\"xd\"]"
      ],
      "outputs": [
        {
          "output_type": "execute_result",
          "execution_count": 76,
          "data": {
            "text/plain": "array([ 0.497415,  0.432435,  0.944955,  1.844033,  0.63157 ,  0.952579,\n       -0.755004, -1.521198, -1.29483 , -1.5341  , -0.892172,  0.159664,\n        0.21409 ,  1.079934, -1.308787,  0.551752, -0.585167, -0.204652,\n        0.51532 ,  0.041035,  1.225714, -0.258516, -0.277476,  1.419884,\n        0.700549, -1.66024 ,  0.459371, -0.190116, -0.417183, -0.278603,\n        0.287218,  1.599751, -1.315916, -2.288384,  0.971492, -2.516749,\n       -0.358711,  2.800197, -0.693089,  2.088943, -1.456914, -0.750984,\n       -1.848792, -0.264186, -0.469719, -1.591162,  1.188315, -0.35073 ,\n       -1.168758, -3.706449, -0.568401,  0.618599, -0.55414 ,  0.157055,\n        0.62748 ,  0.569068,  0.080014, -0.697131, -1.055869,  0.104964,\n       -0.262386,  0.240416, -0.487353,  0.159707, -0.144954, -1.557009,\n        0.043999, -1.346868,  2.00409 ,  0.139921, -1.949323, -0.120989,\n       -0.851479, -0.312084, -0.062562,  2.626721, -0.039137, -0.636441,\n       -0.028918, -0.944736, -0.260646, -0.616735,  0.220018, -0.076888,\n       -0.365343,  1.260086,  0.234765, -0.110148, -1.402514,  0.234301,\n        0.134504, -1.212853,  1.491753, -1.046683, -2.001824,  0.23572 ,\n        0.268018,  0.947856,  0.253458, -1.606599], dtype=float32)"
          },
          "metadata": {}
        }
      ],
      "execution_count": 76,
      "metadata": {
        "collapsed": true,
        "jupyter": {
          "source_hidden": false,
          "outputs_hidden": false
        },
        "nteract": {
          "transient": {
            "deleting": false
          }
        },
        "gather": {
          "logged": 1611626433397
        }
      }
    },
    {
      "cell_type": "code",
      "source": [
        "vocab = set()\r\n",
        "for text in texts:\r\n",
        "    vocab = vocab.union(set(text.split()))\r\n",
        "vocab = sorted(vocab)\r\n",
        "\r\n",
        "from tensorflow.keras.layers.experimental.preprocessing import TextVectorization\r\n",
        "\r\n",
        "vectorizer = TextVectorization(standardize=None)\r\n",
        "text_ds = tf.data.Dataset.from_tensor_slices(vocab).batch(128)\r\n",
        "vectorizer.adapt(text_ds)\r\n"
      ],
      "outputs": [],
      "execution_count": 65,
      "metadata": {
        "collapsed": true,
        "jupyter": {
          "source_hidden": false,
          "outputs_hidden": false
        },
        "nteract": {
          "transient": {
            "deleting": false
          }
        },
        "gather": {
          "logged": 1611626147543
        }
      }
    },
    {
      "cell_type": "code",
      "source": [
        "vectorizer.get_vocabulary()[:100]"
      ],
      "outputs": [
        {
          "output_type": "execute_result",
          "execution_count": 67,
          "data": {
            "text/plain": "['',\n '[UNK]',\n 'żądać',\n 'żądanie',\n 'żąda',\n 'żyć',\n 'żywotnych',\n 'żywotności',\n 'żywot',\n 'żywność',\n 'żyjących',\n 'żyje',\n 'żydów',\n 'żydowskiej',\n 'żydowskiego',\n 'żydowskie',\n 'żydowskich',\n 'żydowska',\n 'żydostwa',\n 'życząc',\n 'życzy',\n 'życzliwości',\n 'życzeń',\n 'życzeniem',\n 'życiu',\n 'życie',\n 'życia',\n 'żuławski',\n 'żukowie',\n 'żołnierzy',\n 'żołnierzowi',\n 'żołnierzem',\n 'żołnierze',\n 'żołnierzach',\n 'żołnierza',\n 'żołnierz',\n 'żołnierskiej',\n 'żeglugi',\n 'żeby',\n 'żebrowski',\n 'że',\n 'żałuski',\n 'żadną',\n 'żadnym',\n 'żadnych',\n 'żadnej',\n 'żadnego',\n 'żadne',\n 'żaden',\n 'ż',\n 'źródło',\n 'źródłem',\n 'źle',\n 'święto',\n 'świetności',\n 'świetnej',\n 'świecie',\n 'światu',\n 'światową',\n 'światopełk',\n 'światem',\n 'świata',\n 'świat',\n 'świadomość',\n 'świadków',\n 'świadka',\n 'świadectwem',\n 'świadectw',\n 'środków',\n 'środkową',\n 'środek',\n 'średnią',\n 'średniawskiego',\n 'średnia',\n 'śnieg',\n 'śmy',\n 'ślązka',\n 'ślązk',\n 'śląsku',\n 'śląskiem',\n 'śląskiej',\n 'śląskich',\n 'śląska',\n 'ślą',\n 'ślubuję',\n 'ślubowanie',\n 'śledztwa',\n 'śledczego',\n 'ślady',\n 'ściśle',\n 'ścigać',\n 'ściganą',\n 'ściganym',\n 'ściganych',\n 'ścigany',\n 'ściganiem',\n 'ściganie',\n 'ścigania',\n 'ściganemu',\n 'ściganej']"
          },
          "metadata": {}
        }
      ],
      "execution_count": 67,
      "metadata": {
        "collapsed": true,
        "jupyter": {
          "source_hidden": false,
          "outputs_hidden": false
        },
        "nteract": {
          "transient": {
            "deleting": false
          }
        },
        "gather": {
          "logged": 1611626153990
        }
      }
    },
    {
      "cell_type": "code",
      "source": [
        "len(vocab)"
      ],
      "outputs": [
        {
          "output_type": "execute_result",
          "execution_count": 68,
          "data": {
            "text/plain": "6705"
          },
          "metadata": {}
        }
      ],
      "execution_count": 68,
      "metadata": {
        "collapsed": true,
        "jupyter": {
          "source_hidden": false,
          "outputs_hidden": false
        },
        "nteract": {
          "transient": {
            "deleting": false
          }
        },
        "gather": {
          "logged": 1611626157665
        }
      }
    },
    {
      "cell_type": "code",
      "source": [
        "output = vectorizer([[\"the cat sat on the mat\"]])\r\n",
        "output.numpy()[0, :6]"
      ],
      "outputs": [
        {
          "output_type": "execute_result",
          "execution_count": 69,
          "data": {
            "text/plain": "array([   1,    1,    1, 3893,    1,    1])"
          },
          "metadata": {}
        }
      ],
      "execution_count": 69,
      "metadata": {
        "collapsed": true,
        "jupyter": {
          "source_hidden": false,
          "outputs_hidden": false
        },
        "nteract": {
          "transient": {
            "deleting": false
          }
        },
        "gather": {
          "logged": 1611626164195
        }
      }
    },
    {
      "cell_type": "code",
      "source": [
        "voc = vectorizer.get_vocabulary()\r\n",
        "word_index = dict(zip(voc, range(len(voc))))\r\n",
        "\r\n",
        "test = [\"pan\", \"jest\", \"tu\", \"i\", \"tam\", \".\"]\r\n",
        "[word_index[w] for w in test]"
      ],
      "outputs": [
        {
          "output_type": "execute_result",
          "execution_count": 70,
          "data": {
            "text/plain": "[3706, 5262, 1607, 5421, 1728, 6703]"
          },
          "metadata": {}
        }
      ],
      "execution_count": 70,
      "metadata": {
        "collapsed": true,
        "jupyter": {
          "source_hidden": false,
          "outputs_hidden": false
        },
        "nteract": {
          "transient": {
            "deleting": false
          }
        },
        "gather": {
          "logged": 1611626166193
        }
      }
    },
    {
      "cell_type": "code",
      "source": [
        "num_tokens = len(voc) + 2\r\n",
        "embedding_dim = 100\r\n",
        "hits = 0\r\n",
        "misses = 0\r\n",
        "\r\n",
        "# Prepare embedding matrix\r\n",
        "embedding_matrix = np.zeros((num_tokens, embedding_dim))\r\n",
        "for word, i in word_index.items():\r\n",
        "    embedding_vector = None\r\n",
        "    try:\r\n",
        "        embedding_vector = word2vec_model[word]\r\n",
        "    except Exception:\r\n",
        "        pass\r\n",
        "    if embedding_vector is not None:\r\n",
        "        # Words not found in embedding index will be all-zeros.\r\n",
        "        # This includes the representation for \"padding\" and \"OOV\"\r\n",
        "        embedding_matrix[i] = embedding_vector\r\n",
        "        hits += 1\r\n",
        "    else:\r\n",
        "        misses += 1\r\n",
        "print(\"Converted %d words (%d misses)\" % (hits, misses))"
      ],
      "outputs": [
        {
          "output_type": "stream",
          "name": "stdout",
          "text": [
            "Converted 6339 words (368 misses)\n"
          ]
        }
      ],
      "execution_count": 82,
      "metadata": {
        "collapsed": true,
        "jupyter": {
          "source_hidden": false,
          "outputs_hidden": false
        },
        "nteract": {
          "transient": {
            "deleting": false
          }
        },
        "gather": {
          "logged": 1611626632805
        }
      }
    },
    {
      "cell_type": "code",
      "source": [
        "all_tokens = []\r\n",
        "tokens_datasets = []\r\n",
        "for i, text in enumerate(texts):\r\n",
        "  print(f\"Tokenizacja tekstu {i}/{len(texts)}\")\r\n",
        "  tokens = tokens_from_words(text.split())\r\n",
        "  all_tokens.append(tokens)\r\n",
        "  tokens_datasets.append(tf.data.Dataset.from_tensor_slices(tokens))\r\n",
        "\r\n",
        "for token in tokens_datasets[0].take(10):\r\n",
        "    print(token)\r\n",
        "    print(words_from_tokens(token).numpy().decode('utf-8'))"
      ],
      "outputs": [
        {
          "output_type": "stream",
          "name": "stdout",
          "text": [
            "Tokenizacja tekstu 0/1\n",
            "tf.Tensor(4275, shape=(), dtype=int64)\n",
            "sprawozdanie\n",
            "tf.Tensor(474424, shape=(), dtype=int64)\n",
            "stenograficzne\n",
            "tf.Tensor(5, shape=(), dtype=int64)\n",
            "z\n",
            "tf.Tensor(29, shape=(), dtype=int64)\n",
            "1\n",
            "tf.Tensor(1, shape=(), dtype=int64)\n",
            "[UNK]\n",
            "tf.Tensor(4330, shape=(), dtype=int64)\n",
            "posiedzenia\n",
            "tf.Tensor(1071, shape=(), dtype=int64)\n",
            "sejmu\n",
            "tf.Tensor(64026, shape=(), dtype=int64)\n",
            "ustawodawczego\n",
            "tf.Tensor(5, shape=(), dtype=int64)\n",
            "z\n",
            "tf.Tensor(200, shape=(), dtype=int64)\n",
            "dnia\n"
          ]
        }
      ],
      "execution_count": 14,
      "metadata": {
        "collapsed": true,
        "jupyter": {
          "source_hidden": false,
          "outputs_hidden": false
        },
        "nteract": {
          "transient": {
            "deleting": false
          }
        },
        "gather": {
          "logged": 1611612594713
        }
      }
    },
    {
      "cell_type": "code",
      "source": [
        "seq_length = 20\r\n",
        "examples_per_epoch = len(texts[0])//(seq_length+1)\r\n",
        "sequences_d = []\r\n",
        "for i, tokens_dataset in enumerate(tokens_datasets):\r\n",
        "  print(f\"Tworzenie zbiorów sekwencji {i}/{len(tokens_dataset)}\")\r\n",
        "  sequences_d.append(tokens_dataset.batch(seq_length+1, drop_remainder=True))\r\n",
        "\r\n",
        "for seq in sequences_d[0].take(10):\r\n",
        "  print(seq)\r\n",
        "  print((text_from_tokens(seq).numpy()).decode(\"utf-8\"))"
      ],
      "outputs": [
        {
          "output_type": "stream",
          "name": "stdout",
          "text": [
            "Tworzenie zbiorów sekwencji 0/17370\n",
            "tf.Tensor(\n",
            "[  4275 474424      5     29      1   4330   1071  64026      5    200\n",
            "     86      1    576   3973     73      1    991   4330     13   1321\n",
            "    147], shape=(21,), dtype=int64)\n",
            "sprawozdaniestenograficznez1[UNK]posiedzeniasejmuustawodawczegozdnia10[UNK]lutego1919r[UNK]początekposiedzeniaogodzinie11\n",
            "tf.Tensor(\n",
            "[ 826  623    1   36  221  740 9105    1  660 1846    3  618  529 1638\n",
            "    1    1    1    1  618  529 2430], shape=(21,), dtype=int64)\n",
            "minut45[UNK]zestronyrząduobecni[UNK]prezydentministrówiministersprawzagranicznych[UNK][UNK][UNK][UNK]ministersprawwewnętrznych\n",
            "tf.Tensor(\n",
            "[      1   70663       1     618    1516       1       1       1     618\n",
            "   13803    4980       3   11230    2301       1       1       1     618\n",
            " 1451485       3    2506], shape=(21,), dtype=int64)\n",
            "[UNK]wojciechowski[UNK]ministersprawiedliwości[UNK][UNK][UNK]ministerwyznańreligijnychioświeceniapublicznego[UNK][UNK][UNK]ministerprzymysłuihandlu\n",
            "tf.Tensor(\n",
            "[    1     1     1   618  1889     3  5409  2573     1     1     1   618\n",
            "   101     3  1497   920     1     1     1   618 62340], shape=(21,), dtype=int64)\n",
            "[UNK][UNK][UNK]ministerrolnictwaidóbrpaństwowych[UNK][UNK][UNK]ministerpracyiopiekispołecznej[UNK][UNK][UNK]ministerpoczt\n",
            "tf.Tensor(\n",
            "[     3 137595      1      1      1    618    356      3    878      1\n",
            "      1      1    618   4666   1316      1      1      1   1438   1767\n",
            "   2136], shape=(21,), dtype=int64)\n",
            "itelegrafów[UNK][UNK][UNK]ministerkulturyisztuki[UNK][UNK][UNK]ministerrobótpublicznych[UNK][UNK][UNK]kierownikministerstwakomunikacji\n",
            "tf.Tensor(\n",
            "[      1       1       1     618    1723       1       1       1     618\n",
            "  134822       1 1044147       1     618     573    2301       1       1\n",
            "       1    1438    1767], shape=(21,), dtype=int64)\n",
            "[UNK][UNK][UNK]ministerskarbu[UNK][UNK][UNK]ministeraprowizacji[UNK]minkiewicz[UNK]ministerzdrowiapublicznego[UNK][UNK][UNK]kierownikministerstwa\n",
            "tf.Tensor(\n",
            "[   529   3608   4915      1      1      1      1 240050    725      1\n",
            "      2    506      1    529   7881      1  63140      1      2    506\n",
            "      1], shape=(21,), dtype=int64)\n",
            "sprawwojskowychpułk[UNK][UNK][UNK][UNK]podsekretarzestanu[UNK]wmin[UNK]sprawzewnętrznych[UNK]wróblewski[UNK]wmin[UNK]\n",
            "tf.Tensor(\n",
            "[104300      1  86833      1      1      1      1      2    506      1\n",
            "      1      1      1      1      1      1      2    506      1 107922\n",
            "      1], shape=(21,), dtype=int64)\n",
            "spr[UNK]wewn[UNK][UNK][UNK][UNK]wmin[UNK][UNK][UNK][UNK][UNK][UNK][UNK]wmin[UNK]przem[UNK]\n",
            "tf.Tensor(\n",
            "[     3   2506      1      1      1      2    506      1    101      3\n",
            "   2148      1 112148      1      1      1      1      2    506      1\n",
            "  62340], shape=(21,), dtype=int64)\n",
            "ihandlu[UNK][UNK][UNK]wmin[UNK]pracyiop[UNK]społ[UNK][UNK][UNK][UNK]wmin[UNK]poczt\n",
            "tf.Tensor(\n",
            "[   3    1    1    1    1    1    2  506    1 6899    1    3  878    1\n",
            "    1    1    2  506    1 1723    1], shape=(21,), dtype=int64)\n",
            "i[UNK][UNK][UNK][UNK][UNK]wmin[UNK]kult[UNK]isztuki[UNK][UNK][UNK]wmin[UNK]skarbu[UNK]\n"
          ]
        }
      ],
      "execution_count": 15,
      "metadata": {
        "collapsed": true,
        "jupyter": {
          "source_hidden": false,
          "outputs_hidden": false
        },
        "nteract": {
          "transient": {
            "deleting": false
          }
        },
        "gather": {
          "logged": 1611612597033
        }
      }
    },
    {
      "cell_type": "code",
      "source": [
        "def split_input_target(sequence):\r\n",
        "  input_text = sequence[:-1]\r\n",
        "  target_text = sequence[1:]\r\n",
        "  return input_text, target_text\r\n",
        "\r\n",
        "datasets = []\r\n",
        "for i, sequences in enumerate(sequences_d):\r\n",
        "  print(f\"{i}/{len(sequences_d)}\")\r\n",
        "  datasets.append(sequences_d[i].map(split_input_target))\r\n",
        "\r\n",
        "for input_example, target_example in  datasets[0].take(20):\r\n",
        "  print(\"Input :\", (text_from_tokens(input_example).numpy()).decode('utf-8'))\r\n",
        "  print(\"Target:\", (text_from_tokens(target_example).numpy()).decode('utf-8'))"
      ],
      "outputs": [
        {
          "output_type": "stream",
          "name": "stdout",
          "text": [
            "0/1\n",
            "Input : sprawozdaniestenograficznez1[UNK]posiedzeniasejmuustawodawczegozdnia10[UNK]lutego1919r[UNK]początekposiedzeniaogodzinie\n",
            "Target: stenograficznez1[UNK]posiedzeniasejmuustawodawczegozdnia10[UNK]lutego1919r[UNK]początekposiedzeniaogodzinie11\n",
            "Input : minut45[UNK]zestronyrząduobecni[UNK]prezydentministrówiministersprawzagranicznych[UNK][UNK][UNK][UNK]ministerspraw\n",
            "Target: 45[UNK]zestronyrząduobecni[UNK]prezydentministrówiministersprawzagranicznych[UNK][UNK][UNK][UNK]ministersprawwewnętrznych\n",
            "Input : [UNK]wojciechowski[UNK]ministersprawiedliwości[UNK][UNK][UNK]ministerwyznańreligijnychioświeceniapublicznego[UNK][UNK][UNK]ministerprzymysłui\n",
            "Target: wojciechowski[UNK]ministersprawiedliwości[UNK][UNK][UNK]ministerwyznańreligijnychioświeceniapublicznego[UNK][UNK][UNK]ministerprzymysłuihandlu\n",
            "Input : [UNK][UNK][UNK]ministerrolnictwaidóbrpaństwowych[UNK][UNK][UNK]ministerpracyiopiekispołecznej[UNK][UNK][UNK]minister\n",
            "Target: [UNK][UNK]ministerrolnictwaidóbrpaństwowych[UNK][UNK][UNK]ministerpracyiopiekispołecznej[UNK][UNK][UNK]ministerpoczt\n",
            "Input : itelegrafów[UNK][UNK][UNK]ministerkulturyisztuki[UNK][UNK][UNK]ministerrobótpublicznych[UNK][UNK][UNK]kierownikministerstwa\n",
            "Target: telegrafów[UNK][UNK][UNK]ministerkulturyisztuki[UNK][UNK][UNK]ministerrobótpublicznych[UNK][UNK][UNK]kierownikministerstwakomunikacji\n",
            "Input : [UNK][UNK][UNK]ministerskarbu[UNK][UNK][UNK]ministeraprowizacji[UNK]minkiewicz[UNK]ministerzdrowiapublicznego[UNK][UNK][UNK]kierownik\n",
            "Target: [UNK][UNK]ministerskarbu[UNK][UNK][UNK]ministeraprowizacji[UNK]minkiewicz[UNK]ministerzdrowiapublicznego[UNK][UNK][UNK]kierownikministerstwa\n",
            "Input : sprawwojskowychpułk[UNK][UNK][UNK][UNK]podsekretarzestanu[UNK]wmin[UNK]sprawzewnętrznych[UNK]wróblewski[UNK]wmin\n",
            "Target: wojskowychpułk[UNK][UNK][UNK][UNK]podsekretarzestanu[UNK]wmin[UNK]sprawzewnętrznych[UNK]wróblewski[UNK]wmin[UNK]\n",
            "Input : spr[UNK]wewn[UNK][UNK][UNK][UNK]wmin[UNK][UNK][UNK][UNK][UNK][UNK][UNK]wmin[UNK]przem\n",
            "Target: [UNK]wewn[UNK][UNK][UNK][UNK]wmin[UNK][UNK][UNK][UNK][UNK][UNK][UNK]wmin[UNK]przem[UNK]\n",
            "Input : ihandlu[UNK][UNK][UNK]wmin[UNK]pracyiop[UNK]społ[UNK][UNK][UNK][UNK]wmin[UNK]\n",
            "Target: handlu[UNK][UNK][UNK]wmin[UNK]pracyiop[UNK]społ[UNK][UNK][UNK][UNK]wmin[UNK]poczt\n",
            "Input : i[UNK][UNK][UNK][UNK][UNK]wmin[UNK]kult[UNK]isztuki[UNK][UNK][UNK]wmin[UNK]skarbu\n",
            "Target: [UNK][UNK][UNK][UNK][UNK]wmin[UNK]kult[UNK]isztuki[UNK][UNK][UNK]wmin[UNK]skarbu[UNK]\n",
            "Input : byrka[UNK]wmin[UNK]aprowizacji[UNK][UNK][UNK]wmin[UNK]zdrowiapubl[UNK][UNK][UNK][UNK]wmin\n",
            "Target: [UNK]wmin[UNK]aprowizacji[UNK][UNK][UNK]wmin[UNK]zdrowiapubl[UNK][UNK][UNK][UNK]wmin[UNK]\n",
            "Input : wyzn[UNK]rel[UNK]iośw[UNK]publ[UNK][UNK][UNK][UNK]naczelnikpaństwa[UNK][UNK]witanyburzliwymioklaskamiwchodzi\n",
            "Target: [UNK]rel[UNK]iośw[UNK]publ[UNK][UNK][UNK][UNK]naczelnikpaństwa[UNK][UNK]witanyburzliwymioklaskamiwchodzina\n",
            "Input : mównicę[UNK]posłowiepowstajązmiejsc[UNK]panowieposłowie[UNK]półtorawiekuwalk[UNK]krwawychnieraziofiarnych[UNK]znalazło\n",
            "Target: [UNK]posłowiepowstajązmiejsc[UNK]panowieposłowie[UNK]półtorawiekuwalk[UNK]krwawychnieraziofiarnych[UNK]znalazłoswój\n",
            "Input : triumfwdniudzisiejszym[UNK]półtorawiekumarzeńowolnej[UNK]czekałoswegoziszczeniawobecnejchwili[UNK]dzisiajmamy\n",
            "Target: wdniudzisiejszym[UNK]półtorawiekumarzeńowolnej[UNK]czekałoswegoziszczeniawobecnejchwili[UNK]dzisiajmamywielkie\n",
            "Input : świętonarodu[UNK]świętoradościpodługiej[UNK]ciężkiejnocycierpień[UNK]wtejgodziniewielkiegosercpolskichbiciaczuję\n",
            "Target: narodu[UNK]świętoradościpodługiej[UNK]ciężkiejnocycierpień[UNK]wtejgodziniewielkiegosercpolskichbiciaczujęsię\n",
            "Input : szczęśliwym[UNK]żeprzypadłmizaszczytotwieraćsejmpolski[UNK]któryznowubędziedomuswegoojczystegojedynympanemigospodarzem\n",
            "Target: [UNK]żeprzypadłmizaszczytotwieraćsejmpolski[UNK]któryznowubędziedomuswegoojczystegojedynympanemigospodarzem[UNK]\n",
            "Input : radośćdniadzisiejszegobyłabystokroćwiększa[UNK]gdybynietroska[UNK]żezbieraciesięwchwiliniezwykleciężkiej[UNK]\n",
            "Target: dniadzisiejszegobyłabystokroćwiększa[UNK]gdybynietroska[UNK]żezbieraciesięwchwiliniezwykleciężkiej[UNK]po\n",
            "Input : długiejnieszczęsnejwojnieświatcałyaznimipolskaczekająztęsknotęupragnionegopokoju[UNK]tęsknotataw[UNK]\n",
            "Target: nieszczęsnejwojnieświatcałyaznimipolskaczekająztęsknotęupragnionegopokoju[UNK]tęsknotataw[UNK]dziś\n",
            "Input : ziścićsięniemoże[UNK]synowieojczyznymusząiść[UNK]bybronićgranicizabezpieczyć[UNK]swobodnyrozwój[UNK]sąsiedzi\n",
            "Target: sięniemoże[UNK]synowieojczyznymusząiść[UNK]bybronićgranicizabezpieczyć[UNK]swobodnyrozwój[UNK]sąsiedzinasi\n",
            "Input : [UNK]zktórymipragnęlibyśmyżyćwpokojuizgodzie[UNK]niechcązapomniećowiekowejsłabościpolski[UNK]\n",
            "Target: zktórymipragnęlibyśmyżyćwpokojuizgodzie[UNK]niechcązapomniećowiekowejsłabościpolski[UNK]która\n"
          ]
        }
      ],
      "execution_count": 16,
      "metadata": {
        "collapsed": true,
        "jupyter": {
          "source_hidden": false,
          "outputs_hidden": false
        },
        "nteract": {
          "transient": {
            "deleting": false
          }
        },
        "gather": {
          "logged": 1611612605381
        }
      }
    },
    {
      "cell_type": "code",
      "source": [
        "BATCH_SIZE = 128\r\n",
        "\r\n",
        "BUFFER_SIZE = 10000\r\n",
        "\r\n",
        "dataset_train = datasets[0]\r\n",
        "for dataset in datasets[1:]:\r\n",
        "  dataset_train = dataset_train.concatenate(dataset)\r\n",
        "\r\n",
        "dataset_train = (\r\n",
        "    dataset_train.shuffle(BUFFER_SIZE)\r\n",
        "                .batch(BATCH_SIZE, drop_remainder=True)\r\n",
        "                .prefetch(tf.data.experimental.AUTOTUNE))"
      ],
      "outputs": [],
      "execution_count": 17,
      "metadata": {
        "collapsed": true,
        "jupyter": {
          "source_hidden": false,
          "outputs_hidden": false
        },
        "nteract": {
          "transient": {
            "deleting": false
          }
        },
        "gather": {
          "logged": 1611612613080
        }
      }
    },
    {
      "cell_type": "code",
      "source": [
        "len(dataset_train)"
      ],
      "outputs": [
        {
          "output_type": "execute_result",
          "execution_count": 18,
          "data": {
            "text/plain": "6"
          },
          "metadata": {}
        }
      ],
      "execution_count": 18,
      "metadata": {
        "collapsed": true,
        "jupyter": {
          "source_hidden": false,
          "outputs_hidden": false
        },
        "nteract": {
          "transient": {
            "deleting": false
          }
        },
        "gather": {
          "logged": 1611612615216
        }
      }
    },
    {
      "cell_type": "code",
      "source": [
        "# Budowanie modelu\r\n",
        "print(\"---------- Budowanie modelu ---------\")\r\n",
        "\r\n",
        "vocab_size = len(vocab)\r\n",
        "print(vocab_size)\r\n",
        "\r\n",
        "\r\n",
        "units = 512\r\n",
        "\r\n",
        "class MyModelLSTM(tf.keras.Model):\r\n",
        "    def __init__(self, vocab_size, embedding_matrix, units):\r\n",
        "        super(MyModelLSTM, self).__init__()\r\n",
        "        self.embedding = tf.keras.layers.Embedding(embedding_matrix.shape[0],\r\n",
        "                                                    embedding_matrix.shape[1],\r\n",
        "                                                    embeddings_initializer=tf.keras.initializers.Constant(embedding_matrix),\r\n",
        "                                                    trainable=False)\r\n",
        "        self.lstm1 = tf.keras.layers.LSTM(units,\r\n",
        "                                            return_sequences=True,\r\n",
        "                                            return_state=True,\r\n",
        "                                            dropout=0.2)\r\n",
        "        self.lstm2 = tf.keras.layers.LSTM(units,\r\n",
        "                                            return_sequences=True,\r\n",
        "                                            return_state=True,\r\n",
        "                                            dropout=0.2)\r\n",
        "        self.dense = tf.keras.layers.Dense(embedding_matrix.shape[0])\r\n",
        "\r\n",
        "    def call(self, inputs, states1=None, states2=None, return_state=False, training=False):\r\n",
        "        x = inputs\r\n",
        "        x = self.embedding(x)\r\n",
        "        if states1 is None:\r\n",
        "            state1, state2 = self.lstm1.get_initial_state(x)\r\n",
        "            states1 = [state1, state2]\r\n",
        "        x, state1, state2 = self.lstm1(x, initial_state=states1, training=training)\r\n",
        "        states1 = [state1, state2]\r\n",
        "        if states2 is None:\r\n",
        "            state2, state2 = self.lstm2.get_initial_state(x)\r\n",
        "            states2 = [state1, state2]\r\n",
        "        x, state1, state2 = self.lstm2(x, initial_state=states2, training=training)\r\n",
        "        states2 = [state1, state2]\r\n",
        "        x = self.dense(x, training=training)\r\n",
        "\r\n",
        "        if return_state:\r\n",
        "            return x, states1, states2\r\n",
        "        else: \r\n",
        "            return x\r\n",
        "\r\n"
      ],
      "outputs": [
        {
          "output_type": "stream",
          "name": "stdout",
          "text": [
            "---------- Budowanie modelu ---------\n",
            "4119\n"
          ]
        }
      ],
      "execution_count": 25,
      "metadata": {
        "collapsed": true,
        "jupyter": {
          "source_hidden": false,
          "outputs_hidden": false
        },
        "nteract": {
          "transient": {
            "deleting": false
          }
        },
        "gather": {
          "logged": 1611612734238
        }
      }
    },
    {
      "cell_type": "code",
      "source": [
        "model = MyModelLSTM(\r\n",
        "    vocab_size=len(tokens_from_words.get_vocabulary()),\r\n",
        "    embedding_matrix=embedding_matrix,\r\n",
        "    units=units)\r\n",
        "\r\n",
        "for input_example_batch, target_example_batch in dataset_train.take(1):\r\n",
        "    example_batch_predictions = model(input_example_batch)\r\n",
        "    print(example_batch_predictions.shape, \"# (batch_size, sequence_length, vocab_size)\")\r\n",
        "\r\n",
        "#model.summary()"
      ],
      "outputs": [
        {
          "output_type": "error",
          "ename": "ResourceExhaustedError",
          "evalue": "OOM when allocating tensor with shape[512,2123132] and type float on /job:localhost/replica:0/task:0/device:CPU:0 by allocator cpu [Op:RandomUniform]",
          "traceback": [
            "\u001b[0;31m---------------------------------------------------------------------------\u001b[0m",
            "\u001b[0;31mResourceExhaustedError\u001b[0m                    Traceback (most recent call last)",
            "\u001b[0;32m<ipython-input-26-69e67d89cdbc>\u001b[0m in \u001b[0;36m<module>\u001b[0;34m\u001b[0m\n\u001b[1;32m      5\u001b[0m \u001b[0;34m\u001b[0m\u001b[0m\n\u001b[1;32m      6\u001b[0m \u001b[0;32mfor\u001b[0m \u001b[0minput_example_batch\u001b[0m\u001b[0;34m,\u001b[0m \u001b[0mtarget_example_batch\u001b[0m \u001b[0;32min\u001b[0m \u001b[0mdataset_train\u001b[0m\u001b[0;34m.\u001b[0m\u001b[0mtake\u001b[0m\u001b[0;34m(\u001b[0m\u001b[0;36m1\u001b[0m\u001b[0;34m)\u001b[0m\u001b[0;34m:\u001b[0m\u001b[0;34m\u001b[0m\u001b[0;34m\u001b[0m\u001b[0m\n\u001b[0;32m----> 7\u001b[0;31m     \u001b[0mexample_batch_predictions\u001b[0m \u001b[0;34m=\u001b[0m \u001b[0mmodel\u001b[0m\u001b[0;34m(\u001b[0m\u001b[0minput_example_batch\u001b[0m\u001b[0;34m)\u001b[0m\u001b[0;34m\u001b[0m\u001b[0;34m\u001b[0m\u001b[0m\n\u001b[0m\u001b[1;32m      8\u001b[0m     \u001b[0mprint\u001b[0m\u001b[0;34m(\u001b[0m\u001b[0mexample_batch_predictions\u001b[0m\u001b[0;34m.\u001b[0m\u001b[0mshape\u001b[0m\u001b[0;34m,\u001b[0m \u001b[0;34m\"# (batch_size, sequence_length, vocab_size)\"\u001b[0m\u001b[0;34m)\u001b[0m\u001b[0;34m\u001b[0m\u001b[0;34m\u001b[0m\u001b[0m\n\u001b[1;32m      9\u001b[0m \u001b[0;34m\u001b[0m\u001b[0m\n",
            "\u001b[0;32m/anaconda/envs/azureml_py36/lib/python3.6/site-packages/tensorflow/python/keras/engine/base_layer.py\u001b[0m in \u001b[0;36m__call__\u001b[0;34m(self, *args, **kwargs)\u001b[0m\n\u001b[1;32m   1010\u001b[0m         with autocast_variable.enable_auto_cast_variables(\n\u001b[1;32m   1011\u001b[0m             self._compute_dtype_object):\n\u001b[0;32m-> 1012\u001b[0;31m           \u001b[0moutputs\u001b[0m \u001b[0;34m=\u001b[0m \u001b[0mcall_fn\u001b[0m\u001b[0;34m(\u001b[0m\u001b[0minputs\u001b[0m\u001b[0;34m,\u001b[0m \u001b[0;34m*\u001b[0m\u001b[0margs\u001b[0m\u001b[0;34m,\u001b[0m \u001b[0;34m**\u001b[0m\u001b[0mkwargs\u001b[0m\u001b[0;34m)\u001b[0m\u001b[0;34m\u001b[0m\u001b[0;34m\u001b[0m\u001b[0m\n\u001b[0m\u001b[1;32m   1013\u001b[0m \u001b[0;34m\u001b[0m\u001b[0m\n\u001b[1;32m   1014\u001b[0m         \u001b[0;32mif\u001b[0m \u001b[0mself\u001b[0m\u001b[0;34m.\u001b[0m\u001b[0m_activity_regularizer\u001b[0m\u001b[0;34m:\u001b[0m\u001b[0;34m\u001b[0m\u001b[0;34m\u001b[0m\u001b[0m\n",
            "\u001b[0;32m<ipython-input-25-bfd2d8ca22ea>\u001b[0m in \u001b[0;36mcall\u001b[0;34m(self, inputs, states1, states2, return_state, training)\u001b[0m\n\u001b[1;32m     30\u001b[0m         \u001b[0mstates1\u001b[0m \u001b[0;34m=\u001b[0m \u001b[0;34m[\u001b[0m\u001b[0mstate1\u001b[0m\u001b[0;34m,\u001b[0m \u001b[0mstate2\u001b[0m\u001b[0;34m]\u001b[0m\u001b[0;34m\u001b[0m\u001b[0;34m\u001b[0m\u001b[0m\n\u001b[1;32m     31\u001b[0m         \u001b[0mstates2\u001b[0m \u001b[0;34m=\u001b[0m \u001b[0;34m[\u001b[0m\u001b[0mstate1\u001b[0m\u001b[0;34m,\u001b[0m \u001b[0mstate2\u001b[0m\u001b[0;34m]\u001b[0m\u001b[0;34m\u001b[0m\u001b[0;34m\u001b[0m\u001b[0m\n\u001b[0;32m---> 32\u001b[0;31m         \u001b[0mx\u001b[0m \u001b[0;34m=\u001b[0m \u001b[0mself\u001b[0m\u001b[0;34m.\u001b[0m\u001b[0mdense\u001b[0m\u001b[0;34m(\u001b[0m\u001b[0mx\u001b[0m\u001b[0;34m,\u001b[0m \u001b[0mtraining\u001b[0m\u001b[0;34m=\u001b[0m\u001b[0mtraining\u001b[0m\u001b[0;34m)\u001b[0m\u001b[0;34m\u001b[0m\u001b[0;34m\u001b[0m\u001b[0m\n\u001b[0m\u001b[1;32m     33\u001b[0m \u001b[0;34m\u001b[0m\u001b[0m\n\u001b[1;32m     34\u001b[0m         \u001b[0;32mif\u001b[0m \u001b[0mreturn_state\u001b[0m\u001b[0;34m:\u001b[0m\u001b[0;34m\u001b[0m\u001b[0;34m\u001b[0m\u001b[0m\n",
            "\u001b[0;32m/anaconda/envs/azureml_py36/lib/python3.6/site-packages/tensorflow/python/keras/engine/base_layer.py\u001b[0m in \u001b[0;36m__call__\u001b[0;34m(self, *args, **kwargs)\u001b[0m\n\u001b[1;32m   1006\u001b[0m       \u001b[0;32mwith\u001b[0m \u001b[0mops\u001b[0m\u001b[0;34m.\u001b[0m\u001b[0mname_scope_v2\u001b[0m\u001b[0;34m(\u001b[0m\u001b[0mname_scope\u001b[0m\u001b[0;34m)\u001b[0m\u001b[0;34m:\u001b[0m\u001b[0;34m\u001b[0m\u001b[0;34m\u001b[0m\u001b[0m\n\u001b[1;32m   1007\u001b[0m         \u001b[0;32mif\u001b[0m \u001b[0;32mnot\u001b[0m \u001b[0mself\u001b[0m\u001b[0;34m.\u001b[0m\u001b[0mbuilt\u001b[0m\u001b[0;34m:\u001b[0m\u001b[0;34m\u001b[0m\u001b[0;34m\u001b[0m\u001b[0m\n\u001b[0;32m-> 1008\u001b[0;31m           \u001b[0mself\u001b[0m\u001b[0;34m.\u001b[0m\u001b[0m_maybe_build\u001b[0m\u001b[0;34m(\u001b[0m\u001b[0minputs\u001b[0m\u001b[0;34m)\u001b[0m\u001b[0;34m\u001b[0m\u001b[0;34m\u001b[0m\u001b[0m\n\u001b[0m\u001b[1;32m   1009\u001b[0m \u001b[0;34m\u001b[0m\u001b[0m\n\u001b[1;32m   1010\u001b[0m         with autocast_variable.enable_auto_cast_variables(\n",
            "\u001b[0;32m/anaconda/envs/azureml_py36/lib/python3.6/site-packages/tensorflow/python/keras/engine/base_layer.py\u001b[0m in \u001b[0;36m_maybe_build\u001b[0;34m(self, inputs)\u001b[0m\n\u001b[1;32m   2708\u001b[0m         \u001b[0;31m# operations.\u001b[0m\u001b[0;34m\u001b[0m\u001b[0;34m\u001b[0m\u001b[0;34m\u001b[0m\u001b[0m\n\u001b[1;32m   2709\u001b[0m         \u001b[0;32mwith\u001b[0m \u001b[0mtf_utils\u001b[0m\u001b[0;34m.\u001b[0m\u001b[0mmaybe_init_scope\u001b[0m\u001b[0;34m(\u001b[0m\u001b[0mself\u001b[0m\u001b[0;34m)\u001b[0m\u001b[0;34m:\u001b[0m\u001b[0;34m\u001b[0m\u001b[0;34m\u001b[0m\u001b[0m\n\u001b[0;32m-> 2710\u001b[0;31m           \u001b[0mself\u001b[0m\u001b[0;34m.\u001b[0m\u001b[0mbuild\u001b[0m\u001b[0;34m(\u001b[0m\u001b[0minput_shapes\u001b[0m\u001b[0;34m)\u001b[0m  \u001b[0;31m# pylint:disable=not-callable\u001b[0m\u001b[0;34m\u001b[0m\u001b[0;34m\u001b[0m\u001b[0m\n\u001b[0m\u001b[1;32m   2711\u001b[0m       \u001b[0;31m# We must set also ensure that the layer is marked as built, and the build\u001b[0m\u001b[0;34m\u001b[0m\u001b[0;34m\u001b[0m\u001b[0;34m\u001b[0m\u001b[0m\n\u001b[1;32m   2712\u001b[0m       \u001b[0;31m# shape is stored since user defined build functions may not be calling\u001b[0m\u001b[0;34m\u001b[0m\u001b[0;34m\u001b[0m\u001b[0;34m\u001b[0m\u001b[0m\n",
            "\u001b[0;32m/anaconda/envs/azureml_py36/lib/python3.6/site-packages/tensorflow/python/keras/layers/core.py\u001b[0m in \u001b[0;36mbuild\u001b[0;34m(self, input_shape)\u001b[0m\n\u001b[1;32m   1190\u001b[0m         \u001b[0mconstraint\u001b[0m\u001b[0;34m=\u001b[0m\u001b[0mself\u001b[0m\u001b[0;34m.\u001b[0m\u001b[0mkernel_constraint\u001b[0m\u001b[0;34m,\u001b[0m\u001b[0;34m\u001b[0m\u001b[0;34m\u001b[0m\u001b[0m\n\u001b[1;32m   1191\u001b[0m         \u001b[0mdtype\u001b[0m\u001b[0;34m=\u001b[0m\u001b[0mself\u001b[0m\u001b[0;34m.\u001b[0m\u001b[0mdtype\u001b[0m\u001b[0;34m,\u001b[0m\u001b[0;34m\u001b[0m\u001b[0;34m\u001b[0m\u001b[0m\n\u001b[0;32m-> 1192\u001b[0;31m         trainable=True)\n\u001b[0m\u001b[1;32m   1193\u001b[0m     \u001b[0;32mif\u001b[0m \u001b[0mself\u001b[0m\u001b[0;34m.\u001b[0m\u001b[0muse_bias\u001b[0m\u001b[0;34m:\u001b[0m\u001b[0;34m\u001b[0m\u001b[0;34m\u001b[0m\u001b[0m\n\u001b[1;32m   1194\u001b[0m       self.bias = self.add_weight(\n",
            "\u001b[0;32m/anaconda/envs/azureml_py36/lib/python3.6/site-packages/tensorflow/python/keras/engine/base_layer.py\u001b[0m in \u001b[0;36madd_weight\u001b[0;34m(self, name, shape, dtype, initializer, regularizer, trainable, constraint, use_resource, synchronization, aggregation, **kwargs)\u001b[0m\n\u001b[1;32m    637\u001b[0m         \u001b[0msynchronization\u001b[0m\u001b[0;34m=\u001b[0m\u001b[0msynchronization\u001b[0m\u001b[0;34m,\u001b[0m\u001b[0;34m\u001b[0m\u001b[0;34m\u001b[0m\u001b[0m\n\u001b[1;32m    638\u001b[0m         \u001b[0maggregation\u001b[0m\u001b[0;34m=\u001b[0m\u001b[0maggregation\u001b[0m\u001b[0;34m,\u001b[0m\u001b[0;34m\u001b[0m\u001b[0;34m\u001b[0m\u001b[0m\n\u001b[0;32m--> 639\u001b[0;31m         caching_device=caching_device)\n\u001b[0m\u001b[1;32m    640\u001b[0m     \u001b[0;32mif\u001b[0m \u001b[0mregularizer\u001b[0m \u001b[0;32mis\u001b[0m \u001b[0;32mnot\u001b[0m \u001b[0;32mNone\u001b[0m\u001b[0;34m:\u001b[0m\u001b[0;34m\u001b[0m\u001b[0;34m\u001b[0m\u001b[0m\n\u001b[1;32m    641\u001b[0m       \u001b[0;31m# TODO(fchollet): in the future, this should be handled at the\u001b[0m\u001b[0;34m\u001b[0m\u001b[0;34m\u001b[0m\u001b[0;34m\u001b[0m\u001b[0m\n",
            "\u001b[0;32m/anaconda/envs/azureml_py36/lib/python3.6/site-packages/tensorflow/python/training/tracking/base.py\u001b[0m in \u001b[0;36m_add_variable_with_custom_getter\u001b[0;34m(self, name, shape, dtype, initializer, getter, overwrite, **kwargs_for_getter)\u001b[0m\n\u001b[1;32m    808\u001b[0m         \u001b[0mdtype\u001b[0m\u001b[0;34m=\u001b[0m\u001b[0mdtype\u001b[0m\u001b[0;34m,\u001b[0m\u001b[0;34m\u001b[0m\u001b[0;34m\u001b[0m\u001b[0m\n\u001b[1;32m    809\u001b[0m         \u001b[0minitializer\u001b[0m\u001b[0;34m=\u001b[0m\u001b[0minitializer\u001b[0m\u001b[0;34m,\u001b[0m\u001b[0;34m\u001b[0m\u001b[0;34m\u001b[0m\u001b[0m\n\u001b[0;32m--> 810\u001b[0;31m         **kwargs_for_getter)\n\u001b[0m\u001b[1;32m    811\u001b[0m \u001b[0;34m\u001b[0m\u001b[0m\n\u001b[1;32m    812\u001b[0m     \u001b[0;31m# If we set an initializer and the variable processed it, tracking will not\u001b[0m\u001b[0;34m\u001b[0m\u001b[0;34m\u001b[0m\u001b[0;34m\u001b[0m\u001b[0m\n",
            "\u001b[0;32m/anaconda/envs/azureml_py36/lib/python3.6/site-packages/tensorflow/python/keras/engine/base_layer_utils.py\u001b[0m in \u001b[0;36mmake_variable\u001b[0;34m(name, shape, dtype, initializer, trainable, caching_device, validate_shape, constraint, use_resource, collections, synchronization, aggregation, partitioner)\u001b[0m\n\u001b[1;32m    140\u001b[0m       \u001b[0msynchronization\u001b[0m\u001b[0;34m=\u001b[0m\u001b[0msynchronization\u001b[0m\u001b[0;34m,\u001b[0m\u001b[0;34m\u001b[0m\u001b[0;34m\u001b[0m\u001b[0m\n\u001b[1;32m    141\u001b[0m       \u001b[0maggregation\u001b[0m\u001b[0;34m=\u001b[0m\u001b[0maggregation\u001b[0m\u001b[0;34m,\u001b[0m\u001b[0;34m\u001b[0m\u001b[0;34m\u001b[0m\u001b[0m\n\u001b[0;32m--> 142\u001b[0;31m       shape=variable_shape if variable_shape else None)\n\u001b[0m\u001b[1;32m    143\u001b[0m \u001b[0;34m\u001b[0m\u001b[0m\n\u001b[1;32m    144\u001b[0m \u001b[0;34m\u001b[0m\u001b[0m\n",
            "\u001b[0;32m/anaconda/envs/azureml_py36/lib/python3.6/site-packages/tensorflow/python/ops/variables.py\u001b[0m in \u001b[0;36m__call__\u001b[0;34m(cls, *args, **kwargs)\u001b[0m\n\u001b[1;32m    258\u001b[0m   \u001b[0;32mdef\u001b[0m \u001b[0m__call__\u001b[0m\u001b[0;34m(\u001b[0m\u001b[0mcls\u001b[0m\u001b[0;34m,\u001b[0m \u001b[0;34m*\u001b[0m\u001b[0margs\u001b[0m\u001b[0;34m,\u001b[0m \u001b[0;34m**\u001b[0m\u001b[0mkwargs\u001b[0m\u001b[0;34m)\u001b[0m\u001b[0;34m:\u001b[0m\u001b[0;34m\u001b[0m\u001b[0;34m\u001b[0m\u001b[0m\n\u001b[1;32m    259\u001b[0m     \u001b[0;32mif\u001b[0m \u001b[0mcls\u001b[0m \u001b[0;32mis\u001b[0m \u001b[0mVariableV1\u001b[0m\u001b[0;34m:\u001b[0m\u001b[0;34m\u001b[0m\u001b[0;34m\u001b[0m\u001b[0m\n\u001b[0;32m--> 260\u001b[0;31m       \u001b[0;32mreturn\u001b[0m \u001b[0mcls\u001b[0m\u001b[0;34m.\u001b[0m\u001b[0m_variable_v1_call\u001b[0m\u001b[0;34m(\u001b[0m\u001b[0;34m*\u001b[0m\u001b[0margs\u001b[0m\u001b[0;34m,\u001b[0m \u001b[0;34m**\u001b[0m\u001b[0mkwargs\u001b[0m\u001b[0;34m)\u001b[0m\u001b[0;34m\u001b[0m\u001b[0;34m\u001b[0m\u001b[0m\n\u001b[0m\u001b[1;32m    261\u001b[0m     \u001b[0;32melif\u001b[0m \u001b[0mcls\u001b[0m \u001b[0;32mis\u001b[0m \u001b[0mVariable\u001b[0m\u001b[0;34m:\u001b[0m\u001b[0;34m\u001b[0m\u001b[0;34m\u001b[0m\u001b[0m\n\u001b[1;32m    262\u001b[0m       \u001b[0;32mreturn\u001b[0m \u001b[0mcls\u001b[0m\u001b[0;34m.\u001b[0m\u001b[0m_variable_v2_call\u001b[0m\u001b[0;34m(\u001b[0m\u001b[0;34m*\u001b[0m\u001b[0margs\u001b[0m\u001b[0;34m,\u001b[0m \u001b[0;34m**\u001b[0m\u001b[0mkwargs\u001b[0m\u001b[0;34m)\u001b[0m\u001b[0;34m\u001b[0m\u001b[0;34m\u001b[0m\u001b[0m\n",
            "\u001b[0;32m/anaconda/envs/azureml_py36/lib/python3.6/site-packages/tensorflow/python/ops/variables.py\u001b[0m in \u001b[0;36m_variable_v1_call\u001b[0;34m(cls, initial_value, trainable, collections, validate_shape, caching_device, name, variable_def, dtype, expected_shape, import_scope, constraint, use_resource, synchronization, aggregation, shape)\u001b[0m\n\u001b[1;32m    219\u001b[0m         \u001b[0msynchronization\u001b[0m\u001b[0;34m=\u001b[0m\u001b[0msynchronization\u001b[0m\u001b[0;34m,\u001b[0m\u001b[0;34m\u001b[0m\u001b[0;34m\u001b[0m\u001b[0m\n\u001b[1;32m    220\u001b[0m         \u001b[0maggregation\u001b[0m\u001b[0;34m=\u001b[0m\u001b[0maggregation\u001b[0m\u001b[0;34m,\u001b[0m\u001b[0;34m\u001b[0m\u001b[0;34m\u001b[0m\u001b[0m\n\u001b[0;32m--> 221\u001b[0;31m         shape=shape)\n\u001b[0m\u001b[1;32m    222\u001b[0m \u001b[0;34m\u001b[0m\u001b[0m\n\u001b[1;32m    223\u001b[0m   def _variable_v2_call(cls,\n",
            "\u001b[0;32m/anaconda/envs/azureml_py36/lib/python3.6/site-packages/tensorflow/python/ops/variables.py\u001b[0m in \u001b[0;36m<lambda>\u001b[0;34m(**kwargs)\u001b[0m\n\u001b[1;32m    197\u001b[0m                         shape=None):\n\u001b[1;32m    198\u001b[0m     \u001b[0;34m\"\"\"Call on Variable class. Useful to force the signature.\"\"\"\u001b[0m\u001b[0;34m\u001b[0m\u001b[0;34m\u001b[0m\u001b[0m\n\u001b[0;32m--> 199\u001b[0;31m     \u001b[0mprevious_getter\u001b[0m \u001b[0;34m=\u001b[0m \u001b[0;32mlambda\u001b[0m \u001b[0;34m**\u001b[0m\u001b[0mkwargs\u001b[0m\u001b[0;34m:\u001b[0m \u001b[0mdefault_variable_creator\u001b[0m\u001b[0;34m(\u001b[0m\u001b[0;32mNone\u001b[0m\u001b[0;34m,\u001b[0m \u001b[0;34m**\u001b[0m\u001b[0mkwargs\u001b[0m\u001b[0;34m)\u001b[0m\u001b[0;34m\u001b[0m\u001b[0;34m\u001b[0m\u001b[0m\n\u001b[0m\u001b[1;32m    200\u001b[0m     \u001b[0;32mfor\u001b[0m \u001b[0m_\u001b[0m\u001b[0;34m,\u001b[0m \u001b[0mgetter\u001b[0m \u001b[0;32min\u001b[0m \u001b[0mops\u001b[0m\u001b[0;34m.\u001b[0m\u001b[0mget_default_graph\u001b[0m\u001b[0;34m(\u001b[0m\u001b[0;34m)\u001b[0m\u001b[0;34m.\u001b[0m\u001b[0m_variable_creator_stack\u001b[0m\u001b[0;34m:\u001b[0m  \u001b[0;31m# pylint: disable=protected-access\u001b[0m\u001b[0;34m\u001b[0m\u001b[0;34m\u001b[0m\u001b[0m\n\u001b[1;32m    201\u001b[0m       \u001b[0mprevious_getter\u001b[0m \u001b[0;34m=\u001b[0m \u001b[0m_make_getter\u001b[0m\u001b[0;34m(\u001b[0m\u001b[0mgetter\u001b[0m\u001b[0;34m,\u001b[0m \u001b[0mprevious_getter\u001b[0m\u001b[0;34m)\u001b[0m\u001b[0;34m\u001b[0m\u001b[0;34m\u001b[0m\u001b[0m\n",
            "\u001b[0;32m/anaconda/envs/azureml_py36/lib/python3.6/site-packages/tensorflow/python/ops/variable_scope.py\u001b[0m in \u001b[0;36mdefault_variable_creator\u001b[0;34m(next_creator, **kwargs)\u001b[0m\n\u001b[1;32m   2616\u001b[0m         \u001b[0msynchronization\u001b[0m\u001b[0;34m=\u001b[0m\u001b[0msynchronization\u001b[0m\u001b[0;34m,\u001b[0m\u001b[0;34m\u001b[0m\u001b[0;34m\u001b[0m\u001b[0m\n\u001b[1;32m   2617\u001b[0m         \u001b[0maggregation\u001b[0m\u001b[0;34m=\u001b[0m\u001b[0maggregation\u001b[0m\u001b[0;34m,\u001b[0m\u001b[0;34m\u001b[0m\u001b[0;34m\u001b[0m\u001b[0m\n\u001b[0;32m-> 2618\u001b[0;31m         shape=shape)\n\u001b[0m\u001b[1;32m   2619\u001b[0m   \u001b[0;32melse\u001b[0m\u001b[0;34m:\u001b[0m\u001b[0;34m\u001b[0m\u001b[0;34m\u001b[0m\u001b[0m\n\u001b[1;32m   2620\u001b[0m     return variables.RefVariable(\n",
            "\u001b[0;32m/anaconda/envs/azureml_py36/lib/python3.6/site-packages/tensorflow/python/ops/variables.py\u001b[0m in \u001b[0;36m__call__\u001b[0;34m(cls, *args, **kwargs)\u001b[0m\n\u001b[1;32m    262\u001b[0m       \u001b[0;32mreturn\u001b[0m \u001b[0mcls\u001b[0m\u001b[0;34m.\u001b[0m\u001b[0m_variable_v2_call\u001b[0m\u001b[0;34m(\u001b[0m\u001b[0;34m*\u001b[0m\u001b[0margs\u001b[0m\u001b[0;34m,\u001b[0m \u001b[0;34m**\u001b[0m\u001b[0mkwargs\u001b[0m\u001b[0;34m)\u001b[0m\u001b[0;34m\u001b[0m\u001b[0;34m\u001b[0m\u001b[0m\n\u001b[1;32m    263\u001b[0m     \u001b[0;32melse\u001b[0m\u001b[0;34m:\u001b[0m\u001b[0;34m\u001b[0m\u001b[0;34m\u001b[0m\u001b[0m\n\u001b[0;32m--> 264\u001b[0;31m       \u001b[0;32mreturn\u001b[0m \u001b[0msuper\u001b[0m\u001b[0;34m(\u001b[0m\u001b[0mVariableMetaclass\u001b[0m\u001b[0;34m,\u001b[0m \u001b[0mcls\u001b[0m\u001b[0;34m)\u001b[0m\u001b[0;34m.\u001b[0m\u001b[0m__call__\u001b[0m\u001b[0;34m(\u001b[0m\u001b[0;34m*\u001b[0m\u001b[0margs\u001b[0m\u001b[0;34m,\u001b[0m \u001b[0;34m**\u001b[0m\u001b[0mkwargs\u001b[0m\u001b[0;34m)\u001b[0m\u001b[0;34m\u001b[0m\u001b[0;34m\u001b[0m\u001b[0m\n\u001b[0m\u001b[1;32m    265\u001b[0m \u001b[0;34m\u001b[0m\u001b[0m\n\u001b[1;32m    266\u001b[0m \u001b[0;34m\u001b[0m\u001b[0m\n",
            "\u001b[0;32m/anaconda/envs/azureml_py36/lib/python3.6/site-packages/tensorflow/python/ops/resource_variable_ops.py\u001b[0m in \u001b[0;36m__init__\u001b[0;34m(self, initial_value, trainable, collections, validate_shape, caching_device, name, dtype, variable_def, import_scope, constraint, distribute_strategy, synchronization, aggregation, shape)\u001b[0m\n\u001b[1;32m   1583\u001b[0m           \u001b[0maggregation\u001b[0m\u001b[0;34m=\u001b[0m\u001b[0maggregation\u001b[0m\u001b[0;34m,\u001b[0m\u001b[0;34m\u001b[0m\u001b[0;34m\u001b[0m\u001b[0m\n\u001b[1;32m   1584\u001b[0m           \u001b[0mshape\u001b[0m\u001b[0;34m=\u001b[0m\u001b[0mshape\u001b[0m\u001b[0;34m,\u001b[0m\u001b[0;34m\u001b[0m\u001b[0;34m\u001b[0m\u001b[0m\n\u001b[0;32m-> 1585\u001b[0;31m           distribute_strategy=distribute_strategy)\n\u001b[0m\u001b[1;32m   1586\u001b[0m \u001b[0;34m\u001b[0m\u001b[0m\n\u001b[1;32m   1587\u001b[0m   def _init_from_args(self,\n",
            "\u001b[0;32m/anaconda/envs/azureml_py36/lib/python3.6/site-packages/tensorflow/python/ops/resource_variable_ops.py\u001b[0m in \u001b[0;36m_init_from_args\u001b[0;34m(self, initial_value, trainable, collections, caching_device, name, dtype, constraint, synchronization, aggregation, distribute_strategy, shape)\u001b[0m\n\u001b[1;32m   1710\u001b[0m           \u001b[0;32mwith\u001b[0m \u001b[0mops\u001b[0m\u001b[0;34m.\u001b[0m\u001b[0mname_scope\u001b[0m\u001b[0;34m(\u001b[0m\u001b[0;34m\"Initializer\"\u001b[0m\u001b[0;34m)\u001b[0m\u001b[0;34m,\u001b[0m \u001b[0mdevice_context_manager\u001b[0m\u001b[0;34m(\u001b[0m\u001b[0;32mNone\u001b[0m\u001b[0;34m)\u001b[0m\u001b[0;34m:\u001b[0m\u001b[0;34m\u001b[0m\u001b[0;34m\u001b[0m\u001b[0m\n\u001b[1;32m   1711\u001b[0m             \u001b[0;32mif\u001b[0m \u001b[0minit_from_fn\u001b[0m\u001b[0;34m:\u001b[0m\u001b[0;34m\u001b[0m\u001b[0;34m\u001b[0m\u001b[0m\n\u001b[0;32m-> 1712\u001b[0;31m               \u001b[0minitial_value\u001b[0m \u001b[0;34m=\u001b[0m \u001b[0minitial_value\u001b[0m\u001b[0;34m(\u001b[0m\u001b[0;34m)\u001b[0m\u001b[0;34m\u001b[0m\u001b[0;34m\u001b[0m\u001b[0m\n\u001b[0m\u001b[1;32m   1713\u001b[0m             \u001b[0;32mif\u001b[0m \u001b[0misinstance\u001b[0m\u001b[0;34m(\u001b[0m\u001b[0minitial_value\u001b[0m\u001b[0;34m,\u001b[0m \u001b[0mtrackable\u001b[0m\u001b[0;34m.\u001b[0m\u001b[0mCheckpointInitialValue\u001b[0m\u001b[0;34m)\u001b[0m\u001b[0;34m:\u001b[0m\u001b[0;34m\u001b[0m\u001b[0;34m\u001b[0m\u001b[0m\n\u001b[1;32m   1714\u001b[0m               \u001b[0mself\u001b[0m\u001b[0;34m.\u001b[0m\u001b[0m_maybe_initialize_trackable\u001b[0m\u001b[0;34m(\u001b[0m\u001b[0;34m)\u001b[0m\u001b[0;34m\u001b[0m\u001b[0;34m\u001b[0m\u001b[0m\n",
            "\u001b[0;32m/anaconda/envs/azureml_py36/lib/python3.6/site-packages/tensorflow/python/keras/initializers/initializers_v2.py\u001b[0m in \u001b[0;36m__call__\u001b[0;34m(self, shape, dtype, **kwargs)\u001b[0m\n\u001b[1;32m    408\u001b[0m     \"\"\"\n\u001b[1;32m    409\u001b[0m     return super(VarianceScaling, self).__call__(\n\u001b[0;32m--> 410\u001b[0;31m         shape, dtype=_get_dtype(dtype), **kwargs)\n\u001b[0m\u001b[1;32m    411\u001b[0m \u001b[0;34m\u001b[0m\u001b[0m\n\u001b[1;32m    412\u001b[0m \u001b[0;34m\u001b[0m\u001b[0m\n",
            "\u001b[0;32m/anaconda/envs/azureml_py36/lib/python3.6/site-packages/tensorflow/python/ops/init_ops_v2.py\u001b[0m in \u001b[0;36m__call__\u001b[0;34m(self, shape, dtype, **kwargs)\u001b[0m\n\u001b[1;32m    598\u001b[0m     \u001b[0;32melse\u001b[0m\u001b[0;34m:\u001b[0m\u001b[0;34m\u001b[0m\u001b[0;34m\u001b[0m\u001b[0m\n\u001b[1;32m    599\u001b[0m       \u001b[0mlimit\u001b[0m \u001b[0;34m=\u001b[0m \u001b[0mmath\u001b[0m\u001b[0;34m.\u001b[0m\u001b[0msqrt\u001b[0m\u001b[0;34m(\u001b[0m\u001b[0;36m3.0\u001b[0m \u001b[0;34m*\u001b[0m \u001b[0mscale\u001b[0m\u001b[0;34m)\u001b[0m\u001b[0;34m\u001b[0m\u001b[0;34m\u001b[0m\u001b[0m\n\u001b[0;32m--> 600\u001b[0;31m       \u001b[0;32mreturn\u001b[0m \u001b[0mself\u001b[0m\u001b[0;34m.\u001b[0m\u001b[0m_random_generator\u001b[0m\u001b[0;34m.\u001b[0m\u001b[0mrandom_uniform\u001b[0m\u001b[0;34m(\u001b[0m\u001b[0mshape\u001b[0m\u001b[0;34m,\u001b[0m \u001b[0;34m-\u001b[0m\u001b[0mlimit\u001b[0m\u001b[0;34m,\u001b[0m \u001b[0mlimit\u001b[0m\u001b[0;34m,\u001b[0m \u001b[0mdtype\u001b[0m\u001b[0;34m)\u001b[0m\u001b[0;34m\u001b[0m\u001b[0;34m\u001b[0m\u001b[0m\n\u001b[0m\u001b[1;32m    601\u001b[0m \u001b[0;34m\u001b[0m\u001b[0m\n\u001b[1;32m    602\u001b[0m   \u001b[0;32mdef\u001b[0m \u001b[0mget_config\u001b[0m\u001b[0;34m(\u001b[0m\u001b[0mself\u001b[0m\u001b[0;34m)\u001b[0m\u001b[0;34m:\u001b[0m\u001b[0;34m\u001b[0m\u001b[0;34m\u001b[0m\u001b[0m\n",
            "\u001b[0;32m/anaconda/envs/azureml_py36/lib/python3.6/site-packages/tensorflow/python/ops/init_ops_v2.py\u001b[0m in \u001b[0;36mrandom_uniform\u001b[0;34m(self, shape, minval, maxval, dtype)\u001b[0m\n\u001b[1;32m   1080\u001b[0m       \u001b[0mop\u001b[0m \u001b[0;34m=\u001b[0m \u001b[0mrandom_ops\u001b[0m\u001b[0;34m.\u001b[0m\u001b[0mrandom_uniform\u001b[0m\u001b[0;34m\u001b[0m\u001b[0;34m\u001b[0m\u001b[0m\n\u001b[1;32m   1081\u001b[0m     return op(\n\u001b[0;32m-> 1082\u001b[0;31m         shape=shape, minval=minval, maxval=maxval, dtype=dtype, seed=self.seed)\n\u001b[0m\u001b[1;32m   1083\u001b[0m \u001b[0;34m\u001b[0m\u001b[0m\n\u001b[1;32m   1084\u001b[0m   \u001b[0;32mdef\u001b[0m \u001b[0mtruncated_normal\u001b[0m\u001b[0;34m(\u001b[0m\u001b[0mself\u001b[0m\u001b[0;34m,\u001b[0m \u001b[0mshape\u001b[0m\u001b[0;34m,\u001b[0m \u001b[0mmean\u001b[0m\u001b[0;34m,\u001b[0m \u001b[0mstddev\u001b[0m\u001b[0;34m,\u001b[0m \u001b[0mdtype\u001b[0m\u001b[0;34m)\u001b[0m\u001b[0;34m:\u001b[0m\u001b[0;34m\u001b[0m\u001b[0;34m\u001b[0m\u001b[0m\n",
            "\u001b[0;32m/anaconda/envs/azureml_py36/lib/python3.6/site-packages/tensorflow/python/util/dispatch.py\u001b[0m in \u001b[0;36mwrapper\u001b[0;34m(*args, **kwargs)\u001b[0m\n\u001b[1;32m    199\u001b[0m     \u001b[0;34m\"\"\"Call target, and fall back on dispatchers if there is a TypeError.\"\"\"\u001b[0m\u001b[0;34m\u001b[0m\u001b[0;34m\u001b[0m\u001b[0m\n\u001b[1;32m    200\u001b[0m     \u001b[0;32mtry\u001b[0m\u001b[0;34m:\u001b[0m\u001b[0;34m\u001b[0m\u001b[0;34m\u001b[0m\u001b[0m\n\u001b[0;32m--> 201\u001b[0;31m       \u001b[0;32mreturn\u001b[0m \u001b[0mtarget\u001b[0m\u001b[0;34m(\u001b[0m\u001b[0;34m*\u001b[0m\u001b[0margs\u001b[0m\u001b[0;34m,\u001b[0m \u001b[0;34m**\u001b[0m\u001b[0mkwargs\u001b[0m\u001b[0;34m)\u001b[0m\u001b[0;34m\u001b[0m\u001b[0;34m\u001b[0m\u001b[0m\n\u001b[0m\u001b[1;32m    202\u001b[0m     \u001b[0;32mexcept\u001b[0m \u001b[0;34m(\u001b[0m\u001b[0mTypeError\u001b[0m\u001b[0;34m,\u001b[0m \u001b[0mValueError\u001b[0m\u001b[0;34m)\u001b[0m\u001b[0;34m:\u001b[0m\u001b[0;34m\u001b[0m\u001b[0;34m\u001b[0m\u001b[0m\n\u001b[1;32m    203\u001b[0m       \u001b[0;31m# Note: convert_to_eager_tensor currently raises a ValueError, not a\u001b[0m\u001b[0;34m\u001b[0m\u001b[0;34m\u001b[0m\u001b[0;34m\u001b[0m\u001b[0m\n",
            "\u001b[0;32m/anaconda/envs/azureml_py36/lib/python3.6/site-packages/tensorflow/python/ops/random_ops.py\u001b[0m in \u001b[0;36mrandom_uniform\u001b[0;34m(shape, minval, maxval, dtype, seed, name)\u001b[0m\n\u001b[1;32m    301\u001b[0m     \u001b[0;32melse\u001b[0m\u001b[0;34m:\u001b[0m\u001b[0;34m\u001b[0m\u001b[0;34m\u001b[0m\u001b[0m\n\u001b[1;32m    302\u001b[0m       result = gen_random_ops.random_uniform(\n\u001b[0;32m--> 303\u001b[0;31m           shape, dtype, seed=seed1, seed2=seed2)\n\u001b[0m\u001b[1;32m    304\u001b[0m       \u001b[0;32mif\u001b[0m \u001b[0mminval_is_zero\u001b[0m\u001b[0;34m:\u001b[0m\u001b[0;34m\u001b[0m\u001b[0;34m\u001b[0m\u001b[0m\n\u001b[1;32m    305\u001b[0m         \u001b[0;32mif\u001b[0m \u001b[0;32mnot\u001b[0m \u001b[0mmaxval_is_one\u001b[0m\u001b[0;34m:\u001b[0m\u001b[0;34m\u001b[0m\u001b[0;34m\u001b[0m\u001b[0m\n",
            "\u001b[0;32m/anaconda/envs/azureml_py36/lib/python3.6/site-packages/tensorflow/python/ops/gen_random_ops.py\u001b[0m in \u001b[0;36mrandom_uniform\u001b[0;34m(shape, dtype, seed, seed2, name)\u001b[0m\n\u001b[1;32m    719\u001b[0m       \u001b[0;32mreturn\u001b[0m \u001b[0m_result\u001b[0m\u001b[0;34m\u001b[0m\u001b[0;34m\u001b[0m\u001b[0m\n\u001b[1;32m    720\u001b[0m     \u001b[0;32mexcept\u001b[0m \u001b[0m_core\u001b[0m\u001b[0;34m.\u001b[0m\u001b[0m_NotOkStatusException\u001b[0m \u001b[0;32mas\u001b[0m \u001b[0me\u001b[0m\u001b[0;34m:\u001b[0m\u001b[0;34m\u001b[0m\u001b[0;34m\u001b[0m\u001b[0m\n\u001b[0;32m--> 721\u001b[0;31m       \u001b[0m_ops\u001b[0m\u001b[0;34m.\u001b[0m\u001b[0mraise_from_not_ok_status\u001b[0m\u001b[0;34m(\u001b[0m\u001b[0me\u001b[0m\u001b[0;34m,\u001b[0m \u001b[0mname\u001b[0m\u001b[0;34m)\u001b[0m\u001b[0;34m\u001b[0m\u001b[0;34m\u001b[0m\u001b[0m\n\u001b[0m\u001b[1;32m    722\u001b[0m     \u001b[0;32mexcept\u001b[0m \u001b[0m_core\u001b[0m\u001b[0;34m.\u001b[0m\u001b[0m_FallbackException\u001b[0m\u001b[0;34m:\u001b[0m\u001b[0;34m\u001b[0m\u001b[0;34m\u001b[0m\u001b[0m\n\u001b[1;32m    723\u001b[0m       \u001b[0;32mpass\u001b[0m\u001b[0;34m\u001b[0m\u001b[0;34m\u001b[0m\u001b[0m\n",
            "\u001b[0;32m/anaconda/envs/azureml_py36/lib/python3.6/site-packages/tensorflow/python/framework/ops.py\u001b[0m in \u001b[0;36mraise_from_not_ok_status\u001b[0;34m(e, name)\u001b[0m\n\u001b[1;32m   6860\u001b[0m   \u001b[0mmessage\u001b[0m \u001b[0;34m=\u001b[0m \u001b[0me\u001b[0m\u001b[0;34m.\u001b[0m\u001b[0mmessage\u001b[0m \u001b[0;34m+\u001b[0m \u001b[0;34m(\u001b[0m\u001b[0;34m\" name: \"\u001b[0m \u001b[0;34m+\u001b[0m \u001b[0mname\u001b[0m \u001b[0;32mif\u001b[0m \u001b[0mname\u001b[0m \u001b[0;32mis\u001b[0m \u001b[0;32mnot\u001b[0m \u001b[0;32mNone\u001b[0m \u001b[0;32melse\u001b[0m \u001b[0;34m\"\"\u001b[0m\u001b[0;34m)\u001b[0m\u001b[0;34m\u001b[0m\u001b[0;34m\u001b[0m\u001b[0m\n\u001b[1;32m   6861\u001b[0m   \u001b[0;31m# pylint: disable=protected-access\u001b[0m\u001b[0;34m\u001b[0m\u001b[0;34m\u001b[0m\u001b[0;34m\u001b[0m\u001b[0m\n\u001b[0;32m-> 6862\u001b[0;31m   \u001b[0msix\u001b[0m\u001b[0;34m.\u001b[0m\u001b[0mraise_from\u001b[0m\u001b[0;34m(\u001b[0m\u001b[0mcore\u001b[0m\u001b[0;34m.\u001b[0m\u001b[0m_status_to_exception\u001b[0m\u001b[0;34m(\u001b[0m\u001b[0me\u001b[0m\u001b[0;34m.\u001b[0m\u001b[0mcode\u001b[0m\u001b[0;34m,\u001b[0m \u001b[0mmessage\u001b[0m\u001b[0;34m)\u001b[0m\u001b[0;34m,\u001b[0m \u001b[0;32mNone\u001b[0m\u001b[0;34m)\u001b[0m\u001b[0;34m\u001b[0m\u001b[0;34m\u001b[0m\u001b[0m\n\u001b[0m\u001b[1;32m   6863\u001b[0m   \u001b[0;31m# pylint: enable=protected-access\u001b[0m\u001b[0;34m\u001b[0m\u001b[0;34m\u001b[0m\u001b[0;34m\u001b[0m\u001b[0m\n\u001b[1;32m   6864\u001b[0m \u001b[0;34m\u001b[0m\u001b[0m\n",
            "\u001b[0;32m/anaconda/envs/azureml_py36/lib/python3.6/site-packages/six.py\u001b[0m in \u001b[0;36mraise_from\u001b[0;34m(value, from_value)\u001b[0m\n",
            "\u001b[0;31mResourceExhaustedError\u001b[0m: OOM when allocating tensor with shape[512,2123132] and type float on /job:localhost/replica:0/task:0/device:CPU:0 by allocator cpu [Op:RandomUniform]"
          ]
        }
      ],
      "execution_count": 26,
      "metadata": {
        "collapsed": true,
        "jupyter": {
          "source_hidden": false,
          "outputs_hidden": false
        },
        "nteract": {
          "transient": {
            "deleting": false
          }
        },
        "gather": {
          "logged": 1611610892730
        }
      }
    },
    {
      "cell_type": "code",
      "source": [
        "loss = tf.losses.SparseCategoricalCrossentropy(from_logits=True)\r\n",
        "\r\n",
        "example_batch_loss = loss(target_example_batch, example_batch_predictions)\r\n",
        "mean_loss = example_batch_loss.numpy().mean()\r\n",
        "print(\"Prediction shape: \", example_batch_predictions.shape, \" # (batch_size, sequence_length, vocab_size)\")\r\n",
        "print(\"Mean loss:        \", mean_loss)\r\n",
        "\r\n",
        "\r\n",
        "tf.exp(mean_loss).numpy()\r\n",
        "\r\n",
        "\r\n",
        "model.compile(optimizer='adam', loss=loss)"
      ],
      "outputs": [],
      "execution_count": null,
      "metadata": {
        "collapsed": true,
        "jupyter": {
          "source_hidden": false,
          "outputs_hidden": false
        },
        "nteract": {
          "transient": {
            "deleting": false
          }
        }
      }
    }
  ],
  "metadata": {
    "kernelspec": {
      "name": "python3-azureml",
      "language": "python",
      "display_name": "Python 3.6 - AzureML"
    },
    "language_info": {
      "name": "python",
      "version": "3.6.9",
      "mimetype": "text/x-python",
      "codemirror_mode": {
        "name": "ipython",
        "version": 3
      },
      "pygments_lexer": "ipython3",
      "nbconvert_exporter": "python",
      "file_extension": ".py"
    },
    "kernel_info": {
      "name": "python3-azureml"
    },
    "nteract": {
      "version": "nteract-front-end@1.0.0"
    }
  },
  "nbformat": 4,
  "nbformat_minor": 2
}